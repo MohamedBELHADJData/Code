{
 "cells": [
  {
   "cell_type": "code",
   "execution_count": 1,
   "metadata": {
    "colab": {
     "base_uri": "https://localhost:8080/"
    },
    "id": "uuSIjnyoYk2s",
    "outputId": "87e7ace2-7c46-4da5-9dc3-e9b91daeaa0f"
   },
   "outputs": [
    {
     "name": "stderr",
     "output_type": "stream",
     "text": [
      "/usr/local/lib/python3.7/dist-packages/statsmodels/tools/_testing.py:19: FutureWarning: pandas.util.testing is deprecated. Use the functions in the public API at pandas.testing instead.\n",
      "  import pandas.util.testing as tm\n"
     ]
    }
   ],
   "source": [
    "import pandas as pd \n",
    "import numpy as np \n",
    "import matplotlib.pyplot as plt\n",
    "import seaborn as sns\n",
    "import scipy.stats as ss\n",
    "from scipy.stats import pearsonr\n",
    "from scipy import stats\n",
    "from scipy.stats import linregress\n",
    "from scipy.stats import chi2_contingency\n",
    "from scipy.stats import chi2\n",
    "import statsmodels.api\n",
    "from scipy import stats"
   ]
  },
  {
   "cell_type": "markdown",
   "metadata": {
    "id": "eb1pS0TdYk2v"
   },
   "source": [
    "# Jeu de données\n",
    "\n",
    "Les données concernent les automobilistes et leur aggrésivité au volant.<br>\n",
    "Une conduite agressive peut avoir de très mauvaises conséquences. Elle peut facilement conduire à un homicide involontaire dû à la négligence des conducteurs. \n",
    "Etre capable de prédire les comportements au volant profitera aux collectivité territoriales.<br><br><br>\n",
    "\n",
    "Descriptif des variables :<br><br>\n",
    "    -ID: Identifiant du vehicule X <br>\n",
    "    -Longueur: Longueur du véhicule X <br>\n",
    "    -Poids: Poids du véhicule X<br>\n",
    "    -Nombre d'essieus<br>\n",
    "    -Date_heure: Date et heure auxquelles les données ont été collectées<br>\n",
    "    -Route: Route sur laquelle le véhicule roule<br>\n",
    "    -Vitesse: Vitesse à laquelle le véhicule X a été détécté<br>\n",
    "    -xxx_vehicule_precedent: caractéristique du véhicule qui précède le vehicule X<br>\n",
    "    -Air_temperature: Température de l'air<br>\n",
    "    -Precipitation<br>\n",
    "    -Precipitation_intensite: Niveau de précipitation<br>\n",
    "    -Humidité<br>\n",
    "    -Direction_vent: Direction du vent de 0 à 360°<br>\n",
    "    -Vitesse_vent: vitesse du vent en m/s<br>\n",
    "    -Condition_routiere: Etat de la route en fonction de la méteo (Sec, Mouillé, Verglas, Neige)<br>\n",
    "    -Temps_journee: Luminosité (Lumière du jour, Nuit, Crépuscule)\n",
    "<br>\n",
    "    -Style_conduite: cet indicateur permet de classé les niveaux d'aggrésivité au volant <br>\n",
    "    \n",
    "\n",
    "\n",
    "\n",
    "<br><br><br>\n",
    "\n",
    "le dataset provient de Kaggle (https://www.kaggle.com/datasets/veeralakrishna/aggressive-driving-data/code)"
   ]
  },
  {
   "cell_type": "code",
   "execution_count": 10,
   "metadata": {
    "colab": {
     "base_uri": "https://localhost:8080/"
    },
    "id": "DhgKK14aYk20",
    "outputId": "58bbb8fa-6746-42d2-986b-bb2791b082cc"
   },
   "outputs": [
    {
     "name": "stdout",
     "output_type": "stream",
     "text": [
      "(162566, 21)\n"
     ]
    }
   ],
   "source": [
    "df = pd.read_csv('/content/donnees (1).csv', sep = ';')\n",
    "df.head(5)\n",
    "print(df.shape)"
   ]
  },
  {
   "cell_type": "markdown",
   "metadata": {
    "id": "p7mGk_jAYk24"
   },
   "source": [
    "Nous voyons ci-dessus la moyenne, l'écart type, le minimum, le premier quartile, le troisième quartile, la médiane ainsi que le maximum pour chaque variable quantitative. <br>\n",
    "Par exemple, nous observons que le poids des véhicules varie entre 44 et 57 230 kg."
   ]
  },
  {
   "cell_type": "code",
   "execution_count": 5,
   "metadata": {
    "colab": {
     "base_uri": "https://localhost:8080/",
     "height": 364
    },
    "id": "wvgk77NnYk26",
    "outputId": "a03843e8-9a7f-4827-b9ec-e410e23b886d"
   },
   "outputs": [
    {
     "data": {
      "text/html": [
       "\n",
       "  <div id=\"df-66476c0a-afa7-4af1-893e-2d9efbc67938\">\n",
       "    <div class=\"colab-df-container\">\n",
       "      <div>\n",
       "<style scoped>\n",
       "    .dataframe tbody tr th:only-of-type {\n",
       "        vertical-align: middle;\n",
       "    }\n",
       "\n",
       "    .dataframe tbody tr th {\n",
       "        vertical-align: top;\n",
       "    }\n",
       "\n",
       "    .dataframe thead th {\n",
       "        text-align: right;\n",
       "    }\n",
       "</style>\n",
       "<table border=\"1\" class=\"dataframe\">\n",
       "  <thead>\n",
       "    <tr style=\"text-align: right;\">\n",
       "      <th></th>\n",
       "      <th>Longueur</th>\n",
       "      <th>Poids</th>\n",
       "      <th>Nb_essieus</th>\n",
       "      <th>Style_conduite</th>\n",
       "      <th>Route</th>\n",
       "      <th>Vitesse</th>\n",
       "      <th>ID_vehicule_precedent</th>\n",
       "      <th>Vitesse_vehicule_precedent</th>\n",
       "      <th>Poids_vehicule_precedent</th>\n",
       "      <th>Longueur_vehicule_precedent</th>\n",
       "      <th>Temps_entre_vehicules</th>\n",
       "      <th>Air_temperature</th>\n",
       "      <th>Humidité</th>\n",
       "      <th>Direction_vent</th>\n",
       "      <th>Vitesse_vent</th>\n",
       "    </tr>\n",
       "  </thead>\n",
       "  <tbody>\n",
       "    <tr>\n",
       "      <th>count</th>\n",
       "      <td>66556.000000</td>\n",
       "      <td>66556.000000</td>\n",
       "      <td>66556.000000</td>\n",
       "      <td>66556.000000</td>\n",
       "      <td>66556.000000</td>\n",
       "      <td>66556.000000</td>\n",
       "      <td>66556.000000</td>\n",
       "      <td>66556.000000</td>\n",
       "      <td>66556.000000</td>\n",
       "      <td>66555.000000</td>\n",
       "      <td>65345.000000</td>\n",
       "      <td>65840.000000</td>\n",
       "      <td>65840.000000</td>\n",
       "      <td>65840.000000</td>\n",
       "      <td>65816.000000</td>\n",
       "    </tr>\n",
       "    <tr>\n",
       "      <th>mean</th>\n",
       "      <td>803.531102</td>\n",
       "      <td>5531.032394</td>\n",
       "      <td>2.679052</td>\n",
       "      <td>2.170653</td>\n",
       "      <td>1.500421</td>\n",
       "      <td>83.281688</td>\n",
       "      <td>151202.826447</td>\n",
       "      <td>83.321759</td>\n",
       "      <td>4945.236493</td>\n",
       "      <td>764.325505</td>\n",
       "      <td>91.868620</td>\n",
       "      <td>5.082093</td>\n",
       "      <td>64.099408</td>\n",
       "      <td>188.357792</td>\n",
       "      <td>4.000258</td>\n",
       "    </tr>\n",
       "    <tr>\n",
       "      <th>std</th>\n",
       "      <td>450.337908</td>\n",
       "      <td>8080.702436</td>\n",
       "      <td>1.343947</td>\n",
       "      <td>0.657724</td>\n",
       "      <td>0.500004</td>\n",
       "      <td>9.642906</td>\n",
       "      <td>113108.076123</td>\n",
       "      <td>9.654999</td>\n",
       "      <td>7744.458476</td>\n",
       "      <td>457.427348</td>\n",
       "      <td>158.540935</td>\n",
       "      <td>2.982880</td>\n",
       "      <td>18.884315</td>\n",
       "      <td>114.113359</td>\n",
       "      <td>3.025971</td>\n",
       "    </tr>\n",
       "    <tr>\n",
       "      <th>min</th>\n",
       "      <td>155.000000</td>\n",
       "      <td>44.000000</td>\n",
       "      <td>2.000000</td>\n",
       "      <td>1.000000</td>\n",
       "      <td>1.000000</td>\n",
       "      <td>8.000000</td>\n",
       "      <td>20.000000</td>\n",
       "      <td>0.000000</td>\n",
       "      <td>3.000000</td>\n",
       "      <td>102.000000</td>\n",
       "      <td>1.000000</td>\n",
       "      <td>-6.000000</td>\n",
       "      <td>16.000000</td>\n",
       "      <td>6.000000</td>\n",
       "      <td>0.000000</td>\n",
       "    </tr>\n",
       "    <tr>\n",
       "      <th>25%</th>\n",
       "      <td>548.000000</td>\n",
       "      <td>1622.000000</td>\n",
       "      <td>2.000000</td>\n",
       "      <td>2.000000</td>\n",
       "      <td>1.000000</td>\n",
       "      <td>78.000000</td>\n",
       "      <td>92171.750000</td>\n",
       "      <td>78.000000</td>\n",
       "      <td>1527.000000</td>\n",
       "      <td>527.000000</td>\n",
       "      <td>5.000000</td>\n",
       "      <td>3.000000</td>\n",
       "      <td>48.000000</td>\n",
       "      <td>79.000000</td>\n",
       "      <td>1.000000</td>\n",
       "    </tr>\n",
       "    <tr>\n",
       "      <th>50%</th>\n",
       "      <td>571.000000</td>\n",
       "      <td>2014.000000</td>\n",
       "      <td>2.000000</td>\n",
       "      <td>2.000000</td>\n",
       "      <td>2.000000</td>\n",
       "      <td>83.000000</td>\n",
       "      <td>129478.500000</td>\n",
       "      <td>83.000000</td>\n",
       "      <td>1915.000000</td>\n",
       "      <td>559.000000</td>\n",
       "      <td>37.000000</td>\n",
       "      <td>5.000000</td>\n",
       "      <td>65.000000</td>\n",
       "      <td>186.000000</td>\n",
       "      <td>4.000000</td>\n",
       "    </tr>\n",
       "    <tr>\n",
       "      <th>75%</th>\n",
       "      <td>795.000000</td>\n",
       "      <td>3005.000000</td>\n",
       "      <td>2.000000</td>\n",
       "      <td>3.000000</td>\n",
       "      <td>2.000000</td>\n",
       "      <td>88.000000</td>\n",
       "      <td>161255.250000</td>\n",
       "      <td>88.000000</td>\n",
       "      <td>2655.250000</td>\n",
       "      <td>655.000000</td>\n",
       "      <td>109.000000</td>\n",
       "      <td>7.000000</td>\n",
       "      <td>81.000000</td>\n",
       "      <td>304.000000</td>\n",
       "      <td>7.000000</td>\n",
       "    </tr>\n",
       "    <tr>\n",
       "      <th>max</th>\n",
       "      <td>2254.000000</td>\n",
       "      <td>57230.000000</td>\n",
       "      <td>8.000000</td>\n",
       "      <td>3.000000</td>\n",
       "      <td>2.000000</td>\n",
       "      <td>161.000000</td>\n",
       "      <td>558950.000000</td>\n",
       "      <td>161.000000</td>\n",
       "      <td>69548.000000</td>\n",
       "      <td>2981.000000</td>\n",
       "      <td>1783.000000</td>\n",
       "      <td>24.000000</td>\n",
       "      <td>97.000000</td>\n",
       "      <td>360.000000</td>\n",
       "      <td>11.000000</td>\n",
       "    </tr>\n",
       "  </tbody>\n",
       "</table>\n",
       "</div>\n",
       "      <button class=\"colab-df-convert\" onclick=\"convertToInteractive('df-66476c0a-afa7-4af1-893e-2d9efbc67938')\"\n",
       "              title=\"Convert this dataframe to an interactive table.\"\n",
       "              style=\"display:none;\">\n",
       "        \n",
       "  <svg xmlns=\"http://www.w3.org/2000/svg\" height=\"24px\"viewBox=\"0 0 24 24\"\n",
       "       width=\"24px\">\n",
       "    <path d=\"M0 0h24v24H0V0z\" fill=\"none\"/>\n",
       "    <path d=\"M18.56 5.44l.94 2.06.94-2.06 2.06-.94-2.06-.94-.94-2.06-.94 2.06-2.06.94zm-11 1L8.5 8.5l.94-2.06 2.06-.94-2.06-.94L8.5 2.5l-.94 2.06-2.06.94zm10 10l.94 2.06.94-2.06 2.06-.94-2.06-.94-.94-2.06-.94 2.06-2.06.94z\"/><path d=\"M17.41 7.96l-1.37-1.37c-.4-.4-.92-.59-1.43-.59-.52 0-1.04.2-1.43.59L10.3 9.45l-7.72 7.72c-.78.78-.78 2.05 0 2.83L4 21.41c.39.39.9.59 1.41.59.51 0 1.02-.2 1.41-.59l7.78-7.78 2.81-2.81c.8-.78.8-2.07 0-2.86zM5.41 20L4 18.59l7.72-7.72 1.47 1.35L5.41 20z\"/>\n",
       "  </svg>\n",
       "      </button>\n",
       "      \n",
       "  <style>\n",
       "    .colab-df-container {\n",
       "      display:flex;\n",
       "      flex-wrap:wrap;\n",
       "      gap: 12px;\n",
       "    }\n",
       "\n",
       "    .colab-df-convert {\n",
       "      background-color: #E8F0FE;\n",
       "      border: none;\n",
       "      border-radius: 50%;\n",
       "      cursor: pointer;\n",
       "      display: none;\n",
       "      fill: #1967D2;\n",
       "      height: 32px;\n",
       "      padding: 0 0 0 0;\n",
       "      width: 32px;\n",
       "    }\n",
       "\n",
       "    .colab-df-convert:hover {\n",
       "      background-color: #E2EBFA;\n",
       "      box-shadow: 0px 1px 2px rgba(60, 64, 67, 0.3), 0px 1px 3px 1px rgba(60, 64, 67, 0.15);\n",
       "      fill: #174EA6;\n",
       "    }\n",
       "\n",
       "    [theme=dark] .colab-df-convert {\n",
       "      background-color: #3B4455;\n",
       "      fill: #D2E3FC;\n",
       "    }\n",
       "\n",
       "    [theme=dark] .colab-df-convert:hover {\n",
       "      background-color: #434B5C;\n",
       "      box-shadow: 0px 1px 3px 1px rgba(0, 0, 0, 0.15);\n",
       "      filter: drop-shadow(0px 1px 2px rgba(0, 0, 0, 0.3));\n",
       "      fill: #FFFFFF;\n",
       "    }\n",
       "  </style>\n",
       "\n",
       "      <script>\n",
       "        const buttonEl =\n",
       "          document.querySelector('#df-66476c0a-afa7-4af1-893e-2d9efbc67938 button.colab-df-convert');\n",
       "        buttonEl.style.display =\n",
       "          google.colab.kernel.accessAllowed ? 'block' : 'none';\n",
       "\n",
       "        async function convertToInteractive(key) {\n",
       "          const element = document.querySelector('#df-66476c0a-afa7-4af1-893e-2d9efbc67938');\n",
       "          const dataTable =\n",
       "            await google.colab.kernel.invokeFunction('convertToInteractive',\n",
       "                                                     [key], {});\n",
       "          if (!dataTable) return;\n",
       "\n",
       "          const docLinkHtml = 'Like what you see? Visit the ' +\n",
       "            '<a target=\"_blank\" href=https://colab.research.google.com/notebooks/data_table.ipynb>data table notebook</a>'\n",
       "            + ' to learn more about interactive tables.';\n",
       "          element.innerHTML = '';\n",
       "          dataTable['output_type'] = 'display_data';\n",
       "          await google.colab.output.renderOutput(dataTable, element);\n",
       "          const docLink = document.createElement('div');\n",
       "          docLink.innerHTML = docLinkHtml;\n",
       "          element.appendChild(docLink);\n",
       "        }\n",
       "      </script>\n",
       "    </div>\n",
       "  </div>\n",
       "  "
      ],
      "text/plain": [
       "           Longueur         Poids    Nb_essieus  Style_conduite         Route  \\\n",
       "count  66556.000000  66556.000000  66556.000000    66556.000000  66556.000000   \n",
       "mean     803.531102   5531.032394      2.679052        2.170653      1.500421   \n",
       "std      450.337908   8080.702436      1.343947        0.657724      0.500004   \n",
       "min      155.000000     44.000000      2.000000        1.000000      1.000000   \n",
       "25%      548.000000   1622.000000      2.000000        2.000000      1.000000   \n",
       "50%      571.000000   2014.000000      2.000000        2.000000      2.000000   \n",
       "75%      795.000000   3005.000000      2.000000        3.000000      2.000000   \n",
       "max     2254.000000  57230.000000      8.000000        3.000000      2.000000   \n",
       "\n",
       "            Vitesse  ID_vehicule_precedent  Vitesse_vehicule_precedent  \\\n",
       "count  66556.000000           66556.000000                66556.000000   \n",
       "mean      83.281688          151202.826447                   83.321759   \n",
       "std        9.642906          113108.076123                    9.654999   \n",
       "min        8.000000              20.000000                    0.000000   \n",
       "25%       78.000000           92171.750000                   78.000000   \n",
       "50%       83.000000          129478.500000                   83.000000   \n",
       "75%       88.000000          161255.250000                   88.000000   \n",
       "max      161.000000          558950.000000                  161.000000   \n",
       "\n",
       "       Poids_vehicule_precedent  Longueur_vehicule_precedent  \\\n",
       "count              66556.000000                 66555.000000   \n",
       "mean                4945.236493                   764.325505   \n",
       "std                 7744.458476                   457.427348   \n",
       "min                    3.000000                   102.000000   \n",
       "25%                 1527.000000                   527.000000   \n",
       "50%                 1915.000000                   559.000000   \n",
       "75%                 2655.250000                   655.000000   \n",
       "max                69548.000000                  2981.000000   \n",
       "\n",
       "       Temps_entre_vehicules  Air_temperature      Humidité  Direction_vent  \\\n",
       "count           65345.000000     65840.000000  65840.000000    65840.000000   \n",
       "mean               91.868620         5.082093     64.099408      188.357792   \n",
       "std               158.540935         2.982880     18.884315      114.113359   \n",
       "min                 1.000000        -6.000000     16.000000        6.000000   \n",
       "25%                 5.000000         3.000000     48.000000       79.000000   \n",
       "50%                37.000000         5.000000     65.000000      186.000000   \n",
       "75%               109.000000         7.000000     81.000000      304.000000   \n",
       "max              1783.000000        24.000000     97.000000      360.000000   \n",
       "\n",
       "       Vitesse_vent  \n",
       "count  65816.000000  \n",
       "mean       4.000258  \n",
       "std        3.025971  \n",
       "min        0.000000  \n",
       "25%        1.000000  \n",
       "50%        4.000000  \n",
       "75%        7.000000  \n",
       "max       11.000000  "
      ]
     },
     "execution_count": 5,
     "metadata": {},
     "output_type": "execute_result"
    }
   ],
   "source": [
    "df.describe()"
   ]
  },
  {
   "cell_type": "markdown",
   "metadata": {
    "id": "2-AqmGVGYk27"
   },
   "source": [
    "# Analyse descriptive"
   ]
  },
  {
   "cell_type": "code",
   "execution_count": null,
   "metadata": {
    "id": "osGNIhyLYk29",
    "outputId": "59a37389-7a2b-4c65-e4bf-b657f2725719"
   },
   "outputs": [
    {
     "data": {
      "image/png": "[encoded data removed]",
      "text/plain": [
       "<Figure size 432x288 with 1 Axes>"
      ]
     },
     "metadata": {},
     "output_type": "display_data"
    }
   ],
   "source": [
    "conduite = df['Style_conduite'].value_counts()\n",
    "plt.pie(conduite, labels=conduite.index, startangle=90, autopct = lambda x: str(round(x, 2)) + '%') \n",
    "plt.title('Distribution du style de conduite')\n",
    "plt.show()"
   ]
  },
  {
   "cell_type": "markdown",
   "metadata": {
    "id": "QccdbyDeYk2_"
   },
   "source": [
    "Nous remarquons ici, qu'environ la moitié de la population a une conduite neutre (=2). Nous analysons toutefois plus d'un quart de cette population a une conduite nerveuse (=1)."
   ]
  },
  {
   "cell_type": "code",
   "execution_count": null,
   "metadata": {
    "id": "wQ0wrlHAYk3A",
    "outputId": "344dfb15-2010-4e82-a082-a637ecaa2838"
   },
   "outputs": [
    {
     "data": {
      "image/png": "[encoded data removed]",
      "text/plain": [
       "<Figure size 432x288 with 1 Axes>"
      ]
     },
     "metadata": {
      "needs_background": "light"
     },
     "output_type": "display_data"
    }
   ],
   "source": [
    "plt.hist(df['Longueur'])\n",
    "plt.xlabel('longueur (en cm)')\n",
    "plt.title('Longueur des voitures')\n",
    "plt.show()"
   ]
  },
  {
   "cell_type": "markdown",
   "metadata": {
    "id": "rQZjRv69Yk3C"
   },
   "source": [
    "Nous observons que la majorité des voitures dans ce jeu de données ont une taille compris entre 450 et 550 cm."
   ]
  },
  {
   "cell_type": "code",
   "execution_count": null,
   "metadata": {
    "id": "ylk-gBmcYk3D",
    "outputId": "e6ad8716-1adf-4c06-fe96-1f0f505ea1ca"
   },
   "outputs": [
    {
     "data": {
      "image/png": "[encoded data removed]",
      "text/plain": [
       "<Figure size 432x288 with 1 Axes>"
      ]
     },
     "metadata": {
      "needs_background": "light"
     },
     "output_type": "display_data"
    }
   ],
   "source": [
    "plt.hist(df['Poids'])\n",
    "plt.xlabel('Poids')\n",
    "plt.title('Répartition du poids des voitures (en kg)')\n",
    "plt.show()"
   ]
  },
  {
   "cell_type": "markdown",
   "metadata": {
    "id": "Ns2Uy3vhYk3E"
   },
   "source": [
    "Nous voyons que le poids de la majorité des véhicules ont un poids inférieur à 5 000 kg."
   ]
  },
  {
   "cell_type": "code",
   "execution_count": null,
   "metadata": {
    "id": "CdXT5yBxYk3F",
    "outputId": "9dd8b6ff-5b30-4952-b8d0-12e8531df645"
   },
   "outputs": [
    {
     "data": {
      "text/html": [
       "<div>\n",
       "<style scoped>\n",
       "    .dataframe tbody tr th:only-of-type {\n",
       "        vertical-align: middle;\n",
       "    }\n",
       "\n",
       "    .dataframe tbody tr th {\n",
       "        vertical-align: top;\n",
       "    }\n",
       "\n",
       "    .dataframe thead th {\n",
       "        text-align: right;\n",
       "    }\n",
       "</style>\n",
       "<table border=\"1\" class=\"dataframe\">\n",
       "  <thead>\n",
       "    <tr style=\"text-align: right;\">\n",
       "      <th></th>\n",
       "      <th></th>\n",
       "      <th>Longueur</th>\n",
       "      <th>Poids</th>\n",
       "      <th>Vitesse</th>\n",
       "      <th>Vitesse_vent</th>\n",
       "    </tr>\n",
       "    <tr>\n",
       "      <th>Style_conduite</th>\n",
       "      <th>Condition_routiere</th>\n",
       "      <th></th>\n",
       "      <th></th>\n",
       "      <th></th>\n",
       "      <th></th>\n",
       "    </tr>\n",
       "  </thead>\n",
       "  <tbody>\n",
       "    <tr>\n",
       "      <th rowspan=\"4\" valign=\"top\">1</th>\n",
       "      <th>Dry</th>\n",
       "      <td>1364.478307</td>\n",
       "      <td>13616.468143</td>\n",
       "      <td>83.697209</td>\n",
       "      <td>4.329868</td>\n",
       "    </tr>\n",
       "    <tr>\n",
       "      <th>Snow covered</th>\n",
       "      <td>1160.765112</td>\n",
       "      <td>6749.120898</td>\n",
       "      <td>71.293610</td>\n",
       "      <td>4.269097</td>\n",
       "    </tr>\n",
       "    <tr>\n",
       "      <th>Visible tracks</th>\n",
       "      <td>1442.559946</td>\n",
       "      <td>13267.956403</td>\n",
       "      <td>76.562670</td>\n",
       "      <td>4.324693</td>\n",
       "    </tr>\n",
       "    <tr>\n",
       "      <th>Wet</th>\n",
       "      <td>1064.451585</td>\n",
       "      <td>9558.905589</td>\n",
       "      <td>82.994385</td>\n",
       "      <td>3.656340</td>\n",
       "    </tr>\n",
       "    <tr>\n",
       "      <th rowspan=\"4\" valign=\"top\">2</th>\n",
       "      <th>Dry</th>\n",
       "      <td>806.977156</td>\n",
       "      <td>5054.807276</td>\n",
       "      <td>83.696277</td>\n",
       "      <td>4.126982</td>\n",
       "    </tr>\n",
       "    <tr>\n",
       "      <th>Snow covered</th>\n",
       "      <td>833.225071</td>\n",
       "      <td>3347.558405</td>\n",
       "      <td>67.945869</td>\n",
       "      <td>4.149666</td>\n",
       "    </tr>\n",
       "    <tr>\n",
       "      <th>Visible tracks</th>\n",
       "      <td>826.278589</td>\n",
       "      <td>5154.836740</td>\n",
       "      <td>74.847445</td>\n",
       "      <td>4.450961</td>\n",
       "    </tr>\n",
       "    <tr>\n",
       "      <th>Wet</th>\n",
       "      <td>745.879002</td>\n",
       "      <td>4504.984642</td>\n",
       "      <td>82.203320</td>\n",
       "      <td>3.756932</td>\n",
       "    </tr>\n",
       "    <tr>\n",
       "      <th rowspan=\"4\" valign=\"top\">3</th>\n",
       "      <th>Dry</th>\n",
       "      <td>806.388277</td>\n",
       "      <td>5116.140638</td>\n",
       "      <td>85.237120</td>\n",
       "      <td>4.615282</td>\n",
       "    </tr>\n",
       "    <tr>\n",
       "      <th>Snow covered</th>\n",
       "      <td>1032.600000</td>\n",
       "      <td>4334.066667</td>\n",
       "      <td>71.419048</td>\n",
       "      <td>4.380952</td>\n",
       "    </tr>\n",
       "    <tr>\n",
       "      <th>Visible tracks</th>\n",
       "      <td>878.997106</td>\n",
       "      <td>5239.833575</td>\n",
       "      <td>82.015919</td>\n",
       "      <td>5.344023</td>\n",
       "    </tr>\n",
       "    <tr>\n",
       "      <th>Wet</th>\n",
       "      <td>739.870144</td>\n",
       "      <td>4273.789209</td>\n",
       "      <td>83.725659</td>\n",
       "      <td>3.757965</td>\n",
       "    </tr>\n",
       "  </tbody>\n",
       "</table>\n",
       "</div>"
      ],
      "text/plain": [
       "                                      Longueur         Poids    Vitesse  \\\n",
       "Style_conduite Condition_routiere                                         \n",
       "1              Dry                 1364.478307  13616.468143  83.697209   \n",
       "               Snow covered        1160.765112   6749.120898  71.293610   \n",
       "               Visible tracks      1442.559946  13267.956403  76.562670   \n",
       "               Wet                 1064.451585   9558.905589  82.994385   \n",
       "2              Dry                  806.977156   5054.807276  83.696277   \n",
       "               Snow covered         833.225071   3347.558405  67.945869   \n",
       "               Visible tracks       826.278589   5154.836740  74.847445   \n",
       "               Wet                  745.879002   4504.984642  82.203320   \n",
       "3              Dry                  806.388277   5116.140638  85.237120   \n",
       "               Snow covered        1032.600000   4334.066667  71.419048   \n",
       "               Visible tracks       878.997106   5239.833575  82.015919   \n",
       "               Wet                  739.870144   4273.789209  83.725659   \n",
       "\n",
       "                                   Vitesse_vent  \n",
       "Style_conduite Condition_routiere                \n",
       "1              Dry                     4.329868  \n",
       "               Snow covered            4.269097  \n",
       "               Visible tracks          4.324693  \n",
       "               Wet                     3.656340  \n",
       "2              Dry                     4.126982  \n",
       "               Snow covered            4.149666  \n",
       "               Visible tracks          4.450961  \n",
       "               Wet                     3.756932  \n",
       "3              Dry                     4.615282  \n",
       "               Snow covered            4.380952  \n",
       "               Visible tracks          5.344023  \n",
       "               Wet                     3.757965  "
      ]
     },
     "execution_count": 42,
     "metadata": {},
     "output_type": "execute_result"
    }
   ],
   "source": [
    "table = pd.pivot_table(df,\n",
    "                       index=['Style_conduite', 'Condition_routiere'],\n",
    "                       values=['Longueur', 'Poids','Vitesse', 'Vitesse_vent'])\n",
    "table"
   ]
  },
  {
   "cell_type": "code",
   "execution_count": null,
   "metadata": {
    "id": "h2QmejNEYk3G",
    "outputId": "8e690c8a-ccfc-4298-bc60-4954993b72e7"
   },
   "outputs": [
    {
     "data": {
      "text/html": [
       "<div>\n",
       "<style scoped>\n",
       "    .dataframe tbody tr th:only-of-type {\n",
       "        vertical-align: middle;\n",
       "    }\n",
       "\n",
       "    .dataframe tbody tr th {\n",
       "        vertical-align: top;\n",
       "    }\n",
       "\n",
       "    .dataframe thead th {\n",
       "        text-align: right;\n",
       "    }\n",
       "</style>\n",
       "<table border=\"1\" class=\"dataframe\">\n",
       "  <thead>\n",
       "    <tr style=\"text-align: right;\">\n",
       "      <th></th>\n",
       "      <th></th>\n",
       "      <th>Longueur</th>\n",
       "      <th>Poids</th>\n",
       "      <th>Vitesse</th>\n",
       "      <th>Vitesse_vent</th>\n",
       "    </tr>\n",
       "    <tr>\n",
       "      <th>Style_conduite</th>\n",
       "      <th>Temps_journee</th>\n",
       "      <th></th>\n",
       "      <th></th>\n",
       "      <th></th>\n",
       "      <th></th>\n",
       "    </tr>\n",
       "  </thead>\n",
       "  <tbody>\n",
       "    <tr>\n",
       "      <th rowspan=\"3\" valign=\"top\">1</th>\n",
       "      <th>daylight</th>\n",
       "      <td>1102.799293</td>\n",
       "      <td>9615.976481</td>\n",
       "      <td>83.645447</td>\n",
       "      <td>4.733645</td>\n",
       "    </tr>\n",
       "    <tr>\n",
       "      <th>night</th>\n",
       "      <td>1302.441841</td>\n",
       "      <td>12819.532624</td>\n",
       "      <td>82.627562</td>\n",
       "      <td>3.822848</td>\n",
       "    </tr>\n",
       "    <tr>\n",
       "      <th>twilight</th>\n",
       "      <td>969.448203</td>\n",
       "      <td>7614.037209</td>\n",
       "      <td>83.295137</td>\n",
       "      <td>3.902904</td>\n",
       "    </tr>\n",
       "    <tr>\n",
       "      <th rowspan=\"3\" valign=\"top\">2</th>\n",
       "      <th>daylight</th>\n",
       "      <td>755.266879</td>\n",
       "      <td>4312.767366</td>\n",
       "      <td>83.920412</td>\n",
       "      <td>4.511612</td>\n",
       "    </tr>\n",
       "    <tr>\n",
       "      <th>night</th>\n",
       "      <td>850.369488</td>\n",
       "      <td>5743.305471</td>\n",
       "      <td>81.507385</td>\n",
       "      <td>3.631065</td>\n",
       "    </tr>\n",
       "    <tr>\n",
       "      <th>twilight</th>\n",
       "      <td>748.086387</td>\n",
       "      <td>4267.987740</td>\n",
       "      <td>82.685175</td>\n",
       "      <td>3.745755</td>\n",
       "    </tr>\n",
       "    <tr>\n",
       "      <th rowspan=\"3\" valign=\"top\">3</th>\n",
       "      <th>daylight</th>\n",
       "      <td>1071.470990</td>\n",
       "      <td>8652.368601</td>\n",
       "      <td>82.750853</td>\n",
       "      <td>5.423208</td>\n",
       "    </tr>\n",
       "    <tr>\n",
       "      <th>night</th>\n",
       "      <td>806.844533</td>\n",
       "      <td>5161.693157</td>\n",
       "      <td>84.866397</td>\n",
       "      <td>4.359537</td>\n",
       "    </tr>\n",
       "    <tr>\n",
       "      <th>twilight</th>\n",
       "      <td>743.347209</td>\n",
       "      <td>4033.878401</td>\n",
       "      <td>85.180924</td>\n",
       "      <td>4.997324</td>\n",
       "    </tr>\n",
       "  </tbody>\n",
       "</table>\n",
       "</div>"
      ],
      "text/plain": [
       "                                 Longueur         Poids    Vitesse  \\\n",
       "Style_conduite Temps_journee                                         \n",
       "1              daylight       1102.799293   9615.976481  83.645447   \n",
       "               night          1302.441841  12819.532624  82.627562   \n",
       "               twilight        969.448203   7614.037209  83.295137   \n",
       "2              daylight        755.266879   4312.767366  83.920412   \n",
       "               night           850.369488   5743.305471  81.507385   \n",
       "               twilight        748.086387   4267.987740  82.685175   \n",
       "3              daylight       1071.470990   8652.368601  82.750853   \n",
       "               night           806.844533   5161.693157  84.866397   \n",
       "               twilight        743.347209   4033.878401  85.180924   \n",
       "\n",
       "                              Vitesse_vent  \n",
       "Style_conduite Temps_journee                \n",
       "1              daylight           4.733645  \n",
       "               night              3.822848  \n",
       "               twilight           3.902904  \n",
       "2              daylight           4.511612  \n",
       "               night              3.631065  \n",
       "               twilight           3.745755  \n",
       "3              daylight           5.423208  \n",
       "               night              4.359537  \n",
       "               twilight           4.997324  "
      ]
     },
     "execution_count": 30,
     "metadata": {},
     "output_type": "execute_result"
    }
   ],
   "source": [
    "table2 = pd.pivot_table(df,\n",
    "                       index=['Style_conduite', 'Temps_journee'],\n",
    "                       values=['Longueur', 'Poids','Vitesse', 'Vitesse_vent'])\n",
    "table2"
   ]
  },
  {
   "cell_type": "code",
   "execution_count": null,
   "metadata": {
    "id": "GaHH00n_Yk3H",
    "outputId": "adbb5ac7-a5c2-437d-fd64-4ea42d44721d"
   },
   "outputs": [
    {
     "data": {
      "image/png": "[encoded data removed]",
      "text/plain": [
       "<Figure size 432x288 with 1 Axes>"
      ]
     },
     "metadata": {
      "needs_background": "light"
     },
     "output_type": "display_data"
    }
   ],
   "source": [
    "sns.boxplot(x='Style_conduite', y='Longueur', data=df) \n",
    "plt.title('Répartition de la longueur du véhicule en fonction du style de conduite')\n",
    "plt.ylabel('Longueur (en cm)')\n",
    "plt.xlabel('Style de conduite')\n",
    "plt.show()"
   ]
  },
  {
   "cell_type": "markdown",
   "metadata": {
    "id": "ZtusoSdsYk3I"
   },
   "source": [
    "Nous remarquons que plus le véhicule est grand et plus le conducteur aura tendance à avoir une conduite agressive."
   ]
  },
  {
   "cell_type": "code",
   "execution_count": null,
   "metadata": {
    "id": "PTK0qWXPYk3J",
    "outputId": "8de09263-eb74-4e71-f31d-542952c85318"
   },
   "outputs": [
    {
     "data": {
      "image/png": "[encoded data removed]",
      "text/plain": [
       "<Figure size 432x288 with 1 Axes>"
      ]
     },
     "metadata": {
      "needs_background": "light"
     },
     "output_type": "display_data"
    }
   ],
   "source": [
    "sns.boxplot(x='Style_conduite', y='Poids', data=df) \n",
    "plt.title('Répartition du poids du véhicule en fonction du style de conduite')\n",
    "plt.ylabel('Poids (en kg)')\n",
    "plt.xlabel('Style de conduite')\n",
    "plt.show()"
   ]
  },
  {
   "cell_type": "markdown",
   "metadata": {
    "id": "0NYbaVpDYk3L"
   },
   "source": [
    "Nous remarquons également que plus le poids du véhicule sera important et plus la conduite sera agressive."
   ]
  },
  {
   "cell_type": "code",
   "execution_count": null,
   "metadata": {
    "id": "WQyEv6qLYk3M",
    "outputId": "3d9b2aa4-428c-4f12-d1a0-2cd139082c2a"
   },
   "outputs": [
    {
     "data": {
      "image/png": "[encoded data removed]",
      "text/plain": [
       "<Figure size 432x288 with 1 Axes>"
      ]
     },
     "metadata": {
      "needs_background": "light"
     },
     "output_type": "display_data"
    }
   ],
   "source": [
    "sns.boxplot(x='Style_conduite', y='Vitesse_vehicule_precedent', data=df) \n",
    "plt.title('Répartition de la vitesse du véhicule précédent en fonction du style de conduite')\n",
    "plt.ylabel('Vitesse de l\\'ancien véhicule')\n",
    "plt.xlabel('Style de conduite')\n",
    "plt.show()"
   ]
  },
  {
   "cell_type": "markdown",
   "metadata": {
    "id": "S0rtgByDYk3N"
   },
   "source": [
    "Nous analysons qu'il n'y a pas forcément de lien entre la vitesse du véhicule précédent du conducteur et de son style de conduite."
   ]
  },
  {
   "cell_type": "code",
   "execution_count": null,
   "metadata": {
    "id": "W16tpsCLYk3N",
    "outputId": "4f503760-edf4-4917-821c-7a2650011f47"
   },
   "outputs": [
    {
     "data": {
      "text/html": [
       "<div>\n",
       "<style scoped>\n",
       "    .dataframe tbody tr th:only-of-type {\n",
       "        vertical-align: middle;\n",
       "    }\n",
       "\n",
       "    .dataframe tbody tr th {\n",
       "        vertical-align: top;\n",
       "    }\n",
       "\n",
       "    .dataframe thead th {\n",
       "        text-align: right;\n",
       "    }\n",
       "</style>\n",
       "<table border=\"1\" class=\"dataframe\">\n",
       "  <thead>\n",
       "    <tr style=\"text-align: right;\">\n",
       "      <th></th>\n",
       "      <th></th>\n",
       "      <th>Longueur</th>\n",
       "      <th>Poids</th>\n",
       "      <th>Vitesse</th>\n",
       "      <th>Vitesse_vent</th>\n",
       "    </tr>\n",
       "    <tr>\n",
       "      <th>Style_conduite</th>\n",
       "      <th>Precipitation</th>\n",
       "      <th></th>\n",
       "      <th></th>\n",
       "      <th></th>\n",
       "      <th></th>\n",
       "    </tr>\n",
       "  </thead>\n",
       "  <tbody>\n",
       "    <tr>\n",
       "      <th rowspan=\"3\" valign=\"top\">1</th>\n",
       "      <th>clear</th>\n",
       "      <td>1242.262198</td>\n",
       "      <td>11849.124962</td>\n",
       "      <td>83.106724</td>\n",
       "      <td>4.010158</td>\n",
       "    </tr>\n",
       "    <tr>\n",
       "      <th>rain</th>\n",
       "      <td>1059.957935</td>\n",
       "      <td>10171.786488</td>\n",
       "      <td>82.641173</td>\n",
       "      <td>3.811900</td>\n",
       "    </tr>\n",
       "    <tr>\n",
       "      <th>snow</th>\n",
       "      <td>1191.222962</td>\n",
       "      <td>9775.120632</td>\n",
       "      <td>79.422629</td>\n",
       "      <td>4.888502</td>\n",
       "    </tr>\n",
       "    <tr>\n",
       "      <th rowspan=\"3\" valign=\"top\">2</th>\n",
       "      <th>clear</th>\n",
       "      <td>799.286138</td>\n",
       "      <td>4994.559148</td>\n",
       "      <td>83.070650</td>\n",
       "      <td>4.067170</td>\n",
       "    </tr>\n",
       "    <tr>\n",
       "      <th>rain</th>\n",
       "      <td>762.621343</td>\n",
       "      <td>4657.615749</td>\n",
       "      <td>79.123064</td>\n",
       "      <td>4.262840</td>\n",
       "    </tr>\n",
       "    <tr>\n",
       "      <th>snow</th>\n",
       "      <td>737.587816</td>\n",
       "      <td>3586.401482</td>\n",
       "      <td>78.647366</td>\n",
       "      <td>3.879984</td>\n",
       "    </tr>\n",
       "    <tr>\n",
       "      <th rowspan=\"3\" valign=\"top\">3</th>\n",
       "      <th>clear</th>\n",
       "      <td>799.705834</td>\n",
       "      <td>5001.172807</td>\n",
       "      <td>85.006070</td>\n",
       "      <td>4.484799</td>\n",
       "    </tr>\n",
       "    <tr>\n",
       "      <th>rain</th>\n",
       "      <td>725.584354</td>\n",
       "      <td>4467.734694</td>\n",
       "      <td>83.613605</td>\n",
       "      <td>4.097411</td>\n",
       "    </tr>\n",
       "    <tr>\n",
       "      <th>snow</th>\n",
       "      <td>765.405282</td>\n",
       "      <td>4557.000000</td>\n",
       "      <td>82.565574</td>\n",
       "      <td>5.141946</td>\n",
       "    </tr>\n",
       "  </tbody>\n",
       "</table>\n",
       "</div>"
      ],
      "text/plain": [
       "                                 Longueur         Poids    Vitesse  \\\n",
       "Style_conduite Precipitation                                         \n",
       "1              clear          1242.262198  11849.124962  83.106724   \n",
       "               rain           1059.957935  10171.786488  82.641173   \n",
       "               snow           1191.222962   9775.120632  79.422629   \n",
       "2              clear           799.286138   4994.559148  83.070650   \n",
       "               rain            762.621343   4657.615749  79.123064   \n",
       "               snow            737.587816   3586.401482  78.647366   \n",
       "3              clear           799.705834   5001.172807  85.006070   \n",
       "               rain            725.584354   4467.734694  83.613605   \n",
       "               snow            765.405282   4557.000000  82.565574   \n",
       "\n",
       "                              Vitesse_vent  \n",
       "Style_conduite Precipitation                \n",
       "1              clear              4.010158  \n",
       "               rain               3.811900  \n",
       "               snow               4.888502  \n",
       "2              clear              4.067170  \n",
       "               rain               4.262840  \n",
       "               snow               3.879984  \n",
       "3              clear              4.484799  \n",
       "               rain               4.097411  \n",
       "               snow               5.141946  "
      ]
     },
     "execution_count": 43,
     "metadata": {},
     "output_type": "execute_result"
    }
   ],
   "source": [
    "table = pd.pivot_table(df,\n",
    "                       index=['Style_conduite', 'Precipitation'],\n",
    "                       values=['Longueur', 'Poids','Vitesse', 'Vitesse_vent'])\n",
    "table"
   ]
  },
  {
   "cell_type": "markdown",
   "metadata": {
    "id": "yBp_UvPZYk3O"
   },
   "source": [
    "# Test statistique"
   ]
  },
  {
   "cell_type": "markdown",
   "metadata": {
    "id": "yXTjzPzDYk3P"
   },
   "source": [
    "Dans cette partie, nous allons voir les test statistique pour évaluer la dépendance entre les variables. \n",
    "Pour cela, nous avons vu que pour : <br>\n",
    "    - Deux variables quantitatives, il faudra effectuer le test de Pearson <br>\n",
    "    - Deux variables qualitatives, il faudra faire le test du chi2 avec le V de Cramer <br>\n",
    "    - Une variable qualitative et une variable quantitative, il faudra faire l'Anova <br>\n",
    "<br> \n",
    "### 1) Test de Pearson\n",
    "Nous commençons donc par le test de Pearson avec les variables quantitatives <br> \n",
    "<br>\n",
    "Nous posons nos hypothèses de test : <br>\n",
    "    - H0 : Indépendance des variables <br>\n",
    "    - H1 : Dépendance des variables "
   ]
  },
  {
   "cell_type": "markdown",
   "metadata": {
    "id": "rWSTmGf-Yk3Q"
   },
   "source": [
    "Nous regardons tout d'abord la dépendance entre les variables longueur et poids."
   ]
  },
  {
   "cell_type": "code",
   "execution_count": 11,
   "metadata": {
    "colab": {
     "base_uri": "https://localhost:8080/",
     "height": 112
    },
    "id": "JkmJKoIdYk3R",
    "outputId": "1bcfaf26-c7f9-4a68-b2d1-a81c04846eae"
   },
   "outputs": [
    {
     "data": {
      "text/html": [
       "\n",
       "  <div id=\"df-2ff3755b-0ff5-4410-be58-c9f5fa855f3c\">\n",
       "    <div class=\"colab-df-container\">\n",
       "      <div>\n",
       "<style scoped>\n",
       "    .dataframe tbody tr th:only-of-type {\n",
       "        vertical-align: middle;\n",
       "    }\n",
       "\n",
       "    .dataframe tbody tr th {\n",
       "        vertical-align: top;\n",
       "    }\n",
       "\n",
       "    .dataframe thead th {\n",
       "        text-align: right;\n",
       "    }\n",
       "</style>\n",
       "<table border=\"1\" class=\"dataframe\">\n",
       "  <thead>\n",
       "    <tr style=\"text-align: right;\">\n",
       "      <th></th>\n",
       "      <th>resultat_test</th>\n",
       "    </tr>\n",
       "  </thead>\n",
       "  <tbody>\n",
       "    <tr>\n",
       "      <th>pearson_coeff</th>\n",
       "      <td>0.889008</td>\n",
       "    </tr>\n",
       "    <tr>\n",
       "      <th>p-value</th>\n",
       "      <td>0.000000</td>\n",
       "    </tr>\n",
       "  </tbody>\n",
       "</table>\n",
       "</div>\n",
       "      <button class=\"colab-df-convert\" onclick=\"convertToInteractive('df-2ff3755b-0ff5-4410-be58-c9f5fa855f3c')\"\n",
       "              title=\"Convert this dataframe to an interactive table.\"\n",
       "              style=\"display:none;\">\n",
       "        \n",
       "  <svg xmlns=\"http://www.w3.org/2000/svg\" height=\"24px\"viewBox=\"0 0 24 24\"\n",
       "       width=\"24px\">\n",
       "    <path d=\"M0 0h24v24H0V0z\" fill=\"none\"/>\n",
       "    <path d=\"M18.56 5.44l.94 2.06.94-2.06 2.06-.94-2.06-.94-.94-2.06-.94 2.06-2.06.94zm-11 1L8.5 8.5l.94-2.06 2.06-.94-2.06-.94L8.5 2.5l-.94 2.06-2.06.94zm10 10l.94 2.06.94-2.06 2.06-.94-2.06-.94-.94-2.06-.94 2.06-2.06.94z\"/><path d=\"M17.41 7.96l-1.37-1.37c-.4-.4-.92-.59-1.43-.59-.52 0-1.04.2-1.43.59L10.3 9.45l-7.72 7.72c-.78.78-.78 2.05 0 2.83L4 21.41c.39.39.9.59 1.41.59.51 0 1.02-.2 1.41-.59l7.78-7.78 2.81-2.81c.8-.78.8-2.07 0-2.86zM5.41 20L4 18.59l7.72-7.72 1.47 1.35L5.41 20z\"/>\n",
       "  </svg>\n",
       "      </button>\n",
       "      \n",
       "  <style>\n",
       "    .colab-df-container {\n",
       "      display:flex;\n",
       "      flex-wrap:wrap;\n",
       "      gap: 12px;\n",
       "    }\n",
       "\n",
       "    .colab-df-convert {\n",
       "      background-color: #E8F0FE;\n",
       "      border: none;\n",
       "      border-radius: 50%;\n",
       "      cursor: pointer;\n",
       "      display: none;\n",
       "      fill: #1967D2;\n",
       "      height: 32px;\n",
       "      padding: 0 0 0 0;\n",
       "      width: 32px;\n",
       "    }\n",
       "\n",
       "    .colab-df-convert:hover {\n",
       "      background-color: #E2EBFA;\n",
       "      box-shadow: 0px 1px 2px rgba(60, 64, 67, 0.3), 0px 1px 3px 1px rgba(60, 64, 67, 0.15);\n",
       "      fill: #174EA6;\n",
       "    }\n",
       "\n",
       "    [theme=dark] .colab-df-convert {\n",
       "      background-color: #3B4455;\n",
       "      fill: #D2E3FC;\n",
       "    }\n",
       "\n",
       "    [theme=dark] .colab-df-convert:hover {\n",
       "      background-color: #434B5C;\n",
       "      box-shadow: 0px 1px 3px 1px rgba(0, 0, 0, 0.15);\n",
       "      filter: drop-shadow(0px 1px 2px rgba(0, 0, 0, 0.3));\n",
       "      fill: #FFFFFF;\n",
       "    }\n",
       "  </style>\n",
       "\n",
       "      <script>\n",
       "        const buttonEl =\n",
       "          document.querySelector('#df-2ff3755b-0ff5-4410-be58-c9f5fa855f3c button.colab-df-convert');\n",
       "        buttonEl.style.display =\n",
       "          google.colab.kernel.accessAllowed ? 'block' : 'none';\n",
       "\n",
       "        async function convertToInteractive(key) {\n",
       "          const element = document.querySelector('#df-2ff3755b-0ff5-4410-be58-c9f5fa855f3c');\n",
       "          const dataTable =\n",
       "            await google.colab.kernel.invokeFunction('convertToInteractive',\n",
       "                                                     [key], {});\n",
       "          if (!dataTable) return;\n",
       "\n",
       "          const docLinkHtml = 'Like what you see? Visit the ' +\n",
       "            '<a target=\"_blank\" href=https://colab.research.google.com/notebooks/data_table.ipynb>data table notebook</a>'\n",
       "            + ' to learn more about interactive tables.';\n",
       "          element.innerHTML = '';\n",
       "          dataTable['output_type'] = 'display_data';\n",
       "          await google.colab.output.renderOutput(dataTable, element);\n",
       "          const docLink = document.createElement('div');\n",
       "          docLink.innerHTML = docLinkHtml;\n",
       "          element.appendChild(docLink);\n",
       "        }\n",
       "      </script>\n",
       "    </div>\n",
       "  </div>\n",
       "  "
      ],
      "text/plain": [
       "               resultat_test\n",
       "pearson_coeff       0.889008\n",
       "p-value             0.000000"
      ]
     },
     "execution_count": 11,
     "metadata": {},
     "output_type": "execute_result"
    }
   ],
   "source": [
    "pd.DataFrame(pearsonr(df['Longueur'], df['Poids']), \n",
    "             index =['pearson_coeff', 'p-value'],columns = ['resultat_test'])"
   ]
  },
  {
   "cell_type": "markdown",
   "metadata": {
    "id": "1j4AbM7bYk3S"
   },
   "source": [
    "Nous remarquons ici que la p-valeur est inférieur à 5% donc on va rejetter l'hypothèse H0. Les variables longueur et poids sont donc dépendantes. <br>\n",
    "De plus, nous voyons que le coefficient de pearson est proche de 1 donc ces variables présentent une forte dépendance entre elles. <br> \n",
    "Nous pouvons tracer la droite de regression linéaire"
   ]
  },
  {
   "cell_type": "code",
   "execution_count": null,
   "metadata": {
    "id": "iMQkdXACYk3T"
   },
   "outputs": [],
   "source": [
    "def Predit (X):\n",
    "    return slope * X + intercept"
   ]
  },
  {
   "cell_type": "code",
   "execution_count": null,
   "metadata": {
    "id": "n5lph5W3Yk3T"
   },
   "outputs": [],
   "source": [
    "slope, intercept, r, p, se = linregress(df['Longueur'], df['Poids'])\n",
    "result = linregress(df['Longueur'], df['Poids'])\n",
    "res = stats.linregress(df['Longueur'], df['Poids'])"
   ]
  },
  {
   "cell_type": "code",
   "execution_count": null,
   "metadata": {
    "id": "ohtNQ3uCYk3U",
    "outputId": "687fd209-6eb5-4548-c1a2-b5f0e68726c9"
   },
   "outputs": [
    {
     "data": {
      "image/png": "[encoded data removed]",
      "text/plain": [
       "<Figure size 432x288 with 1 Axes>"
      ]
     },
     "metadata": {
      "needs_background": "light"
     },
     "output_type": "display_data"
    }
   ],
   "source": [
    "plt.plot(df['Longueur'], df['Poids'], 'o', label='original data')\n",
    "plt.plot(df['Longueur'], res.intercept + res.slope*df['Longueur'], 'r', label='fitted line')\n",
    "plt.legend()\n",
    "plt.title('Régression linéaire du poids en fonction de la longueur')\n",
    "plt.xlabel('Longueur')\n",
    "plt.ylabel('Poids')\n",
    "plt.show()"
   ]
  },
  {
   "cell_type": "markdown",
   "metadata": {
    "id": "XZ5Qt5Y7Yk3U"
   },
   "source": [
    "Cette régression linéaire confirme bien la dépendance des variables. <br> \n",
    "Nous pouvons calculer l'erreur entre les y réel et y prédit. "
   ]
  },
  {
   "cell_type": "code",
   "execution_count": null,
   "metadata": {
    "id": "MGyC0ODfYk3V",
    "outputId": "fadb6b77-99bb-452f-a495-8710cbbe9b3f"
   },
   "outputs": [
    {
     "data": {
      "text/html": [
       "<div>\n",
       "<style scoped>\n",
       "    .dataframe tbody tr th:only-of-type {\n",
       "        vertical-align: middle;\n",
       "    }\n",
       "\n",
       "    .dataframe tbody tr th {\n",
       "        vertical-align: top;\n",
       "    }\n",
       "\n",
       "    .dataframe thead th {\n",
       "        text-align: right;\n",
       "    }\n",
       "</style>\n",
       "<table border=\"1\" class=\"dataframe\">\n",
       "  <thead>\n",
       "    <tr style=\"text-align: right;\">\n",
       "      <th></th>\n",
       "      <th>Poids</th>\n",
       "    </tr>\n",
       "  </thead>\n",
       "  <tbody>\n",
       "    <tr>\n",
       "      <th>0</th>\n",
       "      <td>10243</td>\n",
       "    </tr>\n",
       "    <tr>\n",
       "      <th>1</th>\n",
       "      <td>10243</td>\n",
       "    </tr>\n",
       "    <tr>\n",
       "      <th>2</th>\n",
       "      <td>10243</td>\n",
       "    </tr>\n",
       "    <tr>\n",
       "      <th>3</th>\n",
       "      <td>10243</td>\n",
       "    </tr>\n",
       "    <tr>\n",
       "      <th>4</th>\n",
       "      <td>10243</td>\n",
       "    </tr>\n",
       "    <tr>\n",
       "      <th>...</th>\n",
       "      <td>...</td>\n",
       "    </tr>\n",
       "    <tr>\n",
       "      <th>162561</th>\n",
       "      <td>3244</td>\n",
       "    </tr>\n",
       "    <tr>\n",
       "      <th>162562</th>\n",
       "      <td>3244</td>\n",
       "    </tr>\n",
       "    <tr>\n",
       "      <th>162563</th>\n",
       "      <td>3244</td>\n",
       "    </tr>\n",
       "    <tr>\n",
       "      <th>162564</th>\n",
       "      <td>27812</td>\n",
       "    </tr>\n",
       "    <tr>\n",
       "      <th>162565</th>\n",
       "      <td>27812</td>\n",
       "    </tr>\n",
       "  </tbody>\n",
       "</table>\n",
       "<p>162566 rows × 1 columns</p>\n",
       "</div>"
      ],
      "text/plain": [
       "        Poids\n",
       "0       10243\n",
       "1       10243\n",
       "2       10243\n",
       "3       10243\n",
       "4       10243\n",
       "...       ...\n",
       "162561   3244\n",
       "162562   3244\n",
       "162563   3244\n",
       "162564  27812\n",
       "162565  27812\n",
       "\n",
       "[162566 rows x 1 columns]"
      ]
     },
     "execution_count": 88,
     "metadata": {},
     "output_type": "execute_result"
    }
   ],
   "source": [
    "data_err = pd.DataFrame(df['Poids'] )\n",
    "data_err"
   ]
  },
  {
   "cell_type": "code",
   "execution_count": null,
   "metadata": {
    "id": "VNSGbMfxYk3V",
    "outputId": "8e235bfc-4ab0-469d-949f-4b2cfb600122"
   },
   "outputs": [
    {
     "data": {
      "text/html": [
       "<div>\n",
       "<style scoped>\n",
       "    .dataframe tbody tr th:only-of-type {\n",
       "        vertical-align: middle;\n",
       "    }\n",
       "\n",
       "    .dataframe tbody tr th {\n",
       "        vertical-align: top;\n",
       "    }\n",
       "\n",
       "    .dataframe thead th {\n",
       "        text-align: right;\n",
       "    }\n",
       "</style>\n",
       "<table border=\"1\" class=\"dataframe\">\n",
       "  <thead>\n",
       "    <tr style=\"text-align: right;\">\n",
       "      <th></th>\n",
       "      <th>Poids</th>\n",
       "      <th>Predict (Y)</th>\n",
       "    </tr>\n",
       "  </thead>\n",
       "  <tbody>\n",
       "    <tr>\n",
       "      <th>0</th>\n",
       "      <td>10243</td>\n",
       "      <td>11738.722145</td>\n",
       "    </tr>\n",
       "    <tr>\n",
       "      <th>1</th>\n",
       "      <td>10243</td>\n",
       "      <td>11738.722145</td>\n",
       "    </tr>\n",
       "    <tr>\n",
       "      <th>2</th>\n",
       "      <td>10243</td>\n",
       "      <td>11738.722145</td>\n",
       "    </tr>\n",
       "    <tr>\n",
       "      <th>3</th>\n",
       "      <td>10243</td>\n",
       "      <td>11738.722145</td>\n",
       "    </tr>\n",
       "    <tr>\n",
       "      <th>4</th>\n",
       "      <td>10243</td>\n",
       "      <td>11738.722145</td>\n",
       "    </tr>\n",
       "    <tr>\n",
       "      <th>...</th>\n",
       "      <td>...</td>\n",
       "      <td>...</td>\n",
       "    </tr>\n",
       "    <tr>\n",
       "      <th>162561</th>\n",
       "      <td>3244</td>\n",
       "      <td>3794.075202</td>\n",
       "    </tr>\n",
       "    <tr>\n",
       "      <th>162562</th>\n",
       "      <td>3244</td>\n",
       "      <td>3794.075202</td>\n",
       "    </tr>\n",
       "    <tr>\n",
       "      <th>162563</th>\n",
       "      <td>3244</td>\n",
       "      <td>3794.075202</td>\n",
       "    </tr>\n",
       "    <tr>\n",
       "      <th>162564</th>\n",
       "      <td>27812</td>\n",
       "      <td>22274.326019</td>\n",
       "    </tr>\n",
       "    <tr>\n",
       "      <th>162565</th>\n",
       "      <td>27812</td>\n",
       "      <td>22274.326019</td>\n",
       "    </tr>\n",
       "  </tbody>\n",
       "</table>\n",
       "<p>162566 rows × 2 columns</p>\n",
       "</div>"
      ],
      "text/plain": [
       "        Poids   Predict (Y)\n",
       "0       10243  11738.722145\n",
       "1       10243  11738.722145\n",
       "2       10243  11738.722145\n",
       "3       10243  11738.722145\n",
       "4       10243  11738.722145\n",
       "...       ...           ...\n",
       "162561   3244   3794.075202\n",
       "162562   3244   3794.075202\n",
       "162563   3244   3794.075202\n",
       "162564  27812  22274.326019\n",
       "162565  27812  22274.326019\n",
       "\n",
       "[162566 rows x 2 columns]"
      ]
     },
     "execution_count": 91,
     "metadata": {},
     "output_type": "execute_result"
    }
   ],
   "source": [
    "data_err['Predict (Y)'] = Predit(df['Longueur'])\n",
    "data_err"
   ]
  },
  {
   "cell_type": "code",
   "execution_count": null,
   "metadata": {
    "id": "QRJ8alpZYk3V",
    "outputId": "94656f87-094b-432e-8e1b-bf36cf5d1933"
   },
   "outputs": [
    {
     "data": {
      "text/html": [
       "<div>\n",
       "<style scoped>\n",
       "    .dataframe tbody tr th:only-of-type {\n",
       "        vertical-align: middle;\n",
       "    }\n",
       "\n",
       "    .dataframe tbody tr th {\n",
       "        vertical-align: top;\n",
       "    }\n",
       "\n",
       "    .dataframe thead th {\n",
       "        text-align: right;\n",
       "    }\n",
       "</style>\n",
       "<table border=\"1\" class=\"dataframe\">\n",
       "  <thead>\n",
       "    <tr style=\"text-align: right;\">\n",
       "      <th></th>\n",
       "      <th>Poids</th>\n",
       "      <th>Predict (Y)</th>\n",
       "      <th>residu</th>\n",
       "    </tr>\n",
       "  </thead>\n",
       "  <tbody>\n",
       "    <tr>\n",
       "      <th>0</th>\n",
       "      <td>10243</td>\n",
       "      <td>11738.722145</td>\n",
       "      <td>-1495.722145</td>\n",
       "    </tr>\n",
       "    <tr>\n",
       "      <th>1</th>\n",
       "      <td>10243</td>\n",
       "      <td>11738.722145</td>\n",
       "      <td>-1495.722145</td>\n",
       "    </tr>\n",
       "    <tr>\n",
       "      <th>2</th>\n",
       "      <td>10243</td>\n",
       "      <td>11738.722145</td>\n",
       "      <td>-1495.722145</td>\n",
       "    </tr>\n",
       "    <tr>\n",
       "      <th>3</th>\n",
       "      <td>10243</td>\n",
       "      <td>11738.722145</td>\n",
       "      <td>-1495.722145</td>\n",
       "    </tr>\n",
       "    <tr>\n",
       "      <th>4</th>\n",
       "      <td>10243</td>\n",
       "      <td>11738.722145</td>\n",
       "      <td>-1495.722145</td>\n",
       "    </tr>\n",
       "    <tr>\n",
       "      <th>...</th>\n",
       "      <td>...</td>\n",
       "      <td>...</td>\n",
       "      <td>...</td>\n",
       "    </tr>\n",
       "    <tr>\n",
       "      <th>162561</th>\n",
       "      <td>3244</td>\n",
       "      <td>3794.075202</td>\n",
       "      <td>-550.075202</td>\n",
       "    </tr>\n",
       "    <tr>\n",
       "      <th>162562</th>\n",
       "      <td>3244</td>\n",
       "      <td>3794.075202</td>\n",
       "      <td>-550.075202</td>\n",
       "    </tr>\n",
       "    <tr>\n",
       "      <th>162563</th>\n",
       "      <td>3244</td>\n",
       "      <td>3794.075202</td>\n",
       "      <td>-550.075202</td>\n",
       "    </tr>\n",
       "    <tr>\n",
       "      <th>162564</th>\n",
       "      <td>27812</td>\n",
       "      <td>22274.326019</td>\n",
       "      <td>5537.673981</td>\n",
       "    </tr>\n",
       "    <tr>\n",
       "      <th>162565</th>\n",
       "      <td>27812</td>\n",
       "      <td>22274.326019</td>\n",
       "      <td>5537.673981</td>\n",
       "    </tr>\n",
       "  </tbody>\n",
       "</table>\n",
       "<p>162566 rows × 3 columns</p>\n",
       "</div>"
      ],
      "text/plain": [
       "        Poids   Predict (Y)       residu\n",
       "0       10243  11738.722145 -1495.722145\n",
       "1       10243  11738.722145 -1495.722145\n",
       "2       10243  11738.722145 -1495.722145\n",
       "3       10243  11738.722145 -1495.722145\n",
       "4       10243  11738.722145 -1495.722145\n",
       "...       ...           ...          ...\n",
       "162561   3244   3794.075202  -550.075202\n",
       "162562   3244   3794.075202  -550.075202\n",
       "162563   3244   3794.075202  -550.075202\n",
       "162564  27812  22274.326019  5537.673981\n",
       "162565  27812  22274.326019  5537.673981\n",
       "\n",
       "[162566 rows x 3 columns]"
      ]
     },
     "execution_count": 92,
     "metadata": {},
     "output_type": "execute_result"
    }
   ],
   "source": [
    "data_err['residu'] = data_err['Poids'] - data_err['Predict (Y)']\n",
    "data_err"
   ]
  },
  {
   "cell_type": "markdown",
   "metadata": {
    "id": "YadkfOWKYk3W"
   },
   "source": [
    "Nous regardons ensuite la dépendance entre les variables longueur et vitesse. <br> \n",
    "Nous avons donc les mêmes hypothèses de test : <br> \n",
    "    - H0 : Indépendance des variables <br>\n",
    "    - H1 : Dépendance des variables "
   ]
  },
  {
   "cell_type": "code",
   "execution_count": 13,
   "metadata": {
    "colab": {
     "base_uri": "https://localhost:8080/",
     "height": 112
    },
    "id": "LHXYNtAqYk3W",
    "outputId": "6eeabc8f-2ab2-49c0-d782-907cb2e9d18e"
   },
   "outputs": [
    {
     "data": {
      "text/html": [
       "\n",
       "  <div id=\"df-857b138f-a2eb-4ffa-927b-e9bf65771df0\">\n",
       "    <div class=\"colab-df-container\">\n",
       "      <div>\n",
       "<style scoped>\n",
       "    .dataframe tbody tr th:only-of-type {\n",
       "        vertical-align: middle;\n",
       "    }\n",
       "\n",
       "    .dataframe tbody tr th {\n",
       "        vertical-align: top;\n",
       "    }\n",
       "\n",
       "    .dataframe thead th {\n",
       "        text-align: right;\n",
       "    }\n",
       "</style>\n",
       "<table border=\"1\" class=\"dataframe\">\n",
       "  <thead>\n",
       "    <tr style=\"text-align: right;\">\n",
       "      <th></th>\n",
       "      <th>resultat_test</th>\n",
       "    </tr>\n",
       "  </thead>\n",
       "  <tbody>\n",
       "    <tr>\n",
       "      <th>pearson_coeff</th>\n",
       "      <td>-1.913088e-02</td>\n",
       "    </tr>\n",
       "    <tr>\n",
       "      <th>p-value</th>\n",
       "      <td>1.218215e-14</td>\n",
       "    </tr>\n",
       "  </tbody>\n",
       "</table>\n",
       "</div>\n",
       "      <button class=\"colab-df-convert\" onclick=\"convertToInteractive('df-857b138f-a2eb-4ffa-927b-e9bf65771df0')\"\n",
       "              title=\"Convert this dataframe to an interactive table.\"\n",
       "              style=\"display:none;\">\n",
       "        \n",
       "  <svg xmlns=\"http://www.w3.org/2000/svg\" height=\"24px\"viewBox=\"0 0 24 24\"\n",
       "       width=\"24px\">\n",
       "    <path d=\"M0 0h24v24H0V0z\" fill=\"none\"/>\n",
       "    <path d=\"M18.56 5.44l.94 2.06.94-2.06 2.06-.94-2.06-.94-.94-2.06-.94 2.06-2.06.94zm-11 1L8.5 8.5l.94-2.06 2.06-.94-2.06-.94L8.5 2.5l-.94 2.06-2.06.94zm10 10l.94 2.06.94-2.06 2.06-.94-2.06-.94-.94-2.06-.94 2.06-2.06.94z\"/><path d=\"M17.41 7.96l-1.37-1.37c-.4-.4-.92-.59-1.43-.59-.52 0-1.04.2-1.43.59L10.3 9.45l-7.72 7.72c-.78.78-.78 2.05 0 2.83L4 21.41c.39.39.9.59 1.41.59.51 0 1.02-.2 1.41-.59l7.78-7.78 2.81-2.81c.8-.78.8-2.07 0-2.86zM5.41 20L4 18.59l7.72-7.72 1.47 1.35L5.41 20z\"/>\n",
       "  </svg>\n",
       "      </button>\n",
       "      \n",
       "  <style>\n",
       "    .colab-df-container {\n",
       "      display:flex;\n",
       "      flex-wrap:wrap;\n",
       "      gap: 12px;\n",
       "    }\n",
       "\n",
       "    .colab-df-convert {\n",
       "      background-color: #E8F0FE;\n",
       "      border: none;\n",
       "      border-radius: 50%;\n",
       "      cursor: pointer;\n",
       "      display: none;\n",
       "      fill: #1967D2;\n",
       "      height: 32px;\n",
       "      padding: 0 0 0 0;\n",
       "      width: 32px;\n",
       "    }\n",
       "\n",
       "    .colab-df-convert:hover {\n",
       "      background-color: #E2EBFA;\n",
       "      box-shadow: 0px 1px 2px rgba(60, 64, 67, 0.3), 0px 1px 3px 1px rgba(60, 64, 67, 0.15);\n",
       "      fill: #174EA6;\n",
       "    }\n",
       "\n",
       "    [theme=dark] .colab-df-convert {\n",
       "      background-color: #3B4455;\n",
       "      fill: #D2E3FC;\n",
       "    }\n",
       "\n",
       "    [theme=dark] .colab-df-convert:hover {\n",
       "      background-color: #434B5C;\n",
       "      box-shadow: 0px 1px 3px 1px rgba(0, 0, 0, 0.15);\n",
       "      filter: drop-shadow(0px 1px 2px rgba(0, 0, 0, 0.3));\n",
       "      fill: #FFFFFF;\n",
       "    }\n",
       "  </style>\n",
       "\n",
       "      <script>\n",
       "        const buttonEl =\n",
       "          document.querySelector('#df-857b138f-a2eb-4ffa-927b-e9bf65771df0 button.colab-df-convert');\n",
       "        buttonEl.style.display =\n",
       "          google.colab.kernel.accessAllowed ? 'block' : 'none';\n",
       "\n",
       "        async function convertToInteractive(key) {\n",
       "          const element = document.querySelector('#df-857b138f-a2eb-4ffa-927b-e9bf65771df0');\n",
       "          const dataTable =\n",
       "            await google.colab.kernel.invokeFunction('convertToInteractive',\n",
       "                                                     [key], {});\n",
       "          if (!dataTable) return;\n",
       "\n",
       "          const docLinkHtml = 'Like what you see? Visit the ' +\n",
       "            '<a target=\"_blank\" href=https://colab.research.google.com/notebooks/data_table.ipynb>data table notebook</a>'\n",
       "            + ' to learn more about interactive tables.';\n",
       "          element.innerHTML = '';\n",
       "          dataTable['output_type'] = 'display_data';\n",
       "          await google.colab.output.renderOutput(dataTable, element);\n",
       "          const docLink = document.createElement('div');\n",
       "          docLink.innerHTML = docLinkHtml;\n",
       "          element.appendChild(docLink);\n",
       "        }\n",
       "      </script>\n",
       "    </div>\n",
       "  </div>\n",
       "  "
      ],
      "text/plain": [
       "               resultat_test\n",
       "pearson_coeff  -1.913088e-02\n",
       "p-value         1.218215e-14"
      ]
     },
     "execution_count": 13,
     "metadata": {},
     "output_type": "execute_result"
    }
   ],
   "source": [
    "pd.DataFrame(pearsonr(df['Longueur'], df['Vitesse']), \n",
    "             index =['pearson_coeff', 'p-value'],columns = ['resultat_test'])"
   ]
  },
  {
   "cell_type": "markdown",
   "metadata": {
    "id": "60nnWOJUYk3W"
   },
   "source": [
    "Nous remarquons ici que la p-valeur est inférieur à 5% donc on va rejetter l'hypothèse H0. Les variables longueur et vitesse sont donc dépendantes. <br>\n",
    "Nous pouvons tracer la droite de regression linéaire"
   ]
  },
  {
   "cell_type": "code",
   "execution_count": null,
   "metadata": {
    "id": "NSp4eM3qYk3W"
   },
   "outputs": [],
   "source": [
    "slope, intercept, r, p, se = linregress(df['Longueur'], df['Vitesse'])\n",
    "result2 = linregress(df['Longueur'], df['Vitesse'])\n",
    "res2 = stats.linregress(df['Longueur'], df['Vitesse'])"
   ]
  },
  {
   "cell_type": "code",
   "execution_count": null,
   "metadata": {
    "id": "zeYOK51fYk3X",
    "outputId": "051d4d22-2f6d-4f9d-9805-cb3a4445805b"
   },
   "outputs": [
    {
     "data": {
      "image/png": "[encoded data removed]",
      "text/plain": [
       "<Figure size 432x288 with 1 Axes>"
      ]
     },
     "metadata": {
      "needs_background": "light"
     },
     "output_type": "display_data"
    }
   ],
   "source": [
    "plt.plot(df['Longueur'], df['Vitesse'], 'o', label='original data')\n",
    "plt.plot(df['Longueur'], res2.intercept + res2.slope*df['Longueur'], 'r', label='fitted line')\n",
    "plt.legend()\n",
    "plt.title('Régression linéaire de la vitesse en fonction de la longueur')\n",
    "plt.xlabel('Longueur')\n",
    "plt.ylabel('Vitesse')\n",
    "plt.show()"
   ]
  },
  {
   "cell_type": "markdown",
   "metadata": {
    "id": "ud6rBg_OYk3X"
   },
   "source": [
    "Nous voyons bien qu'il y a une dépendance entre ces variables avec cette régression linéaire."
   ]
  },
  {
   "cell_type": "markdown",
   "metadata": {
    "id": "AUiXmpbBYk3Y"
   },
   "source": [
    "Nous regardons enfin la dépendance entre les variables poids et vitesse. <br>\n",
    "H0 : indépendance des variables "
   ]
  },
  {
   "cell_type": "code",
   "execution_count": 7,
   "metadata": {
    "colab": {
     "base_uri": "https://localhost:8080/",
     "height": 112
    },
    "id": "6wTvt-JLYk3Y",
    "outputId": "6f8e3fa9-e2f8-4ea0-dda1-24eb9cb37be9"
   },
   "outputs": [
    {
     "data": {
      "text/html": [
       "\n",
       "  <div id=\"df-dae5fc2f-c028-421d-a22c-8b554f3bae42\">\n",
       "    <div class=\"colab-df-container\">\n",
       "      <div>\n",
       "<style scoped>\n",
       "    .dataframe tbody tr th:only-of-type {\n",
       "        vertical-align: middle;\n",
       "    }\n",
       "\n",
       "    .dataframe tbody tr th {\n",
       "        vertical-align: top;\n",
       "    }\n",
       "\n",
       "    .dataframe thead th {\n",
       "        text-align: right;\n",
       "    }\n",
       "</style>\n",
       "<table border=\"1\" class=\"dataframe\">\n",
       "  <thead>\n",
       "    <tr style=\"text-align: right;\">\n",
       "      <th></th>\n",
       "      <th>resultat_test</th>\n",
       "    </tr>\n",
       "  </thead>\n",
       "  <tbody>\n",
       "    <tr>\n",
       "      <th>pearson_coeff</th>\n",
       "      <td>1.961395e-02</td>\n",
       "    </tr>\n",
       "    <tr>\n",
       "      <th>p-value</th>\n",
       "      <td>4.181869e-07</td>\n",
       "    </tr>\n",
       "  </tbody>\n",
       "</table>\n",
       "</div>\n",
       "      <button class=\"colab-df-convert\" onclick=\"convertToInteractive('df-dae5fc2f-c028-421d-a22c-8b554f3bae42')\"\n",
       "              title=\"Convert this dataframe to an interactive table.\"\n",
       "              style=\"display:none;\">\n",
       "        \n",
       "  <svg xmlns=\"http://www.w3.org/2000/svg\" height=\"24px\"viewBox=\"0 0 24 24\"\n",
       "       width=\"24px\">\n",
       "    <path d=\"M0 0h24v24H0V0z\" fill=\"none\"/>\n",
       "    <path d=\"M18.56 5.44l.94 2.06.94-2.06 2.06-.94-2.06-.94-.94-2.06-.94 2.06-2.06.94zm-11 1L8.5 8.5l.94-2.06 2.06-.94-2.06-.94L8.5 2.5l-.94 2.06-2.06.94zm10 10l.94 2.06.94-2.06 2.06-.94-2.06-.94-.94-2.06-.94 2.06-2.06.94z\"/><path d=\"M17.41 7.96l-1.37-1.37c-.4-.4-.92-.59-1.43-.59-.52 0-1.04.2-1.43.59L10.3 9.45l-7.72 7.72c-.78.78-.78 2.05 0 2.83L4 21.41c.39.39.9.59 1.41.59.51 0 1.02-.2 1.41-.59l7.78-7.78 2.81-2.81c.8-.78.8-2.07 0-2.86zM5.41 20L4 18.59l7.72-7.72 1.47 1.35L5.41 20z\"/>\n",
       "  </svg>\n",
       "      </button>\n",
       "      \n",
       "  <style>\n",
       "    .colab-df-container {\n",
       "      display:flex;\n",
       "      flex-wrap:wrap;\n",
       "      gap: 12px;\n",
       "    }\n",
       "\n",
       "    .colab-df-convert {\n",
       "      background-color: #E8F0FE;\n",
       "      border: none;\n",
       "      border-radius: 50%;\n",
       "      cursor: pointer;\n",
       "      display: none;\n",
       "      fill: #1967D2;\n",
       "      height: 32px;\n",
       "      padding: 0 0 0 0;\n",
       "      width: 32px;\n",
       "    }\n",
       "\n",
       "    .colab-df-convert:hover {\n",
       "      background-color: #E2EBFA;\n",
       "      box-shadow: 0px 1px 2px rgba(60, 64, 67, 0.3), 0px 1px 3px 1px rgba(60, 64, 67, 0.15);\n",
       "      fill: #174EA6;\n",
       "    }\n",
       "\n",
       "    [theme=dark] .colab-df-convert {\n",
       "      background-color: #3B4455;\n",
       "      fill: #D2E3FC;\n",
       "    }\n",
       "\n",
       "    [theme=dark] .colab-df-convert:hover {\n",
       "      background-color: #434B5C;\n",
       "      box-shadow: 0px 1px 3px 1px rgba(0, 0, 0, 0.15);\n",
       "      filter: drop-shadow(0px 1px 2px rgba(0, 0, 0, 0.3));\n",
       "      fill: #FFFFFF;\n",
       "    }\n",
       "  </style>\n",
       "\n",
       "      <script>\n",
       "        const buttonEl =\n",
       "          document.querySelector('#df-dae5fc2f-c028-421d-a22c-8b554f3bae42 button.colab-df-convert');\n",
       "        buttonEl.style.display =\n",
       "          google.colab.kernel.accessAllowed ? 'block' : 'none';\n",
       "\n",
       "        async function convertToInteractive(key) {\n",
       "          const element = document.querySelector('#df-dae5fc2f-c028-421d-a22c-8b554f3bae42');\n",
       "          const dataTable =\n",
       "            await google.colab.kernel.invokeFunction('convertToInteractive',\n",
       "                                                     [key], {});\n",
       "          if (!dataTable) return;\n",
       "\n",
       "          const docLinkHtml = 'Like what you see? Visit the ' +\n",
       "            '<a target=\"_blank\" href=https://colab.research.google.com/notebooks/data_table.ipynb>data table notebook</a>'\n",
       "            + ' to learn more about interactive tables.';\n",
       "          element.innerHTML = '';\n",
       "          dataTable['output_type'] = 'display_data';\n",
       "          await google.colab.output.renderOutput(dataTable, element);\n",
       "          const docLink = document.createElement('div');\n",
       "          docLink.innerHTML = docLinkHtml;\n",
       "          element.appendChild(docLink);\n",
       "        }\n",
       "      </script>\n",
       "    </div>\n",
       "  </div>\n",
       "  "
      ],
      "text/plain": [
       "               resultat_test\n",
       "pearson_coeff   1.961395e-02\n",
       "p-value         4.181869e-07"
      ]
     },
     "execution_count": 7,
     "metadata": {},
     "output_type": "execute_result"
    }
   ],
   "source": [
    "pd.DataFrame(pearsonr(df['Poids'], df['Vitesse']), \n",
    "             index =['pearson_coeff', 'p-value'],columns = ['resultat_test'])"
   ]
  },
  {
   "cell_type": "markdown",
   "metadata": {
    "id": "zNcGA--iYk3Y"
   },
   "source": [
    "Nous remarquons ici que la p-valeur est inférieur à 5% donc on va rejetter l'hypothèse H0. Les variables longueur et vitesse sont donc dépendantes. <br>\n",
    "Nous pouvons tracer la droite de regression linéaire"
   ]
  },
  {
   "cell_type": "code",
   "execution_count": null,
   "metadata": {
    "id": "JeeKG9b2Yk3Z"
   },
   "outputs": [],
   "source": [
    "slope, intercept, r, p, se = linregress(df['Poids'], df['Vitesse'])\n",
    "result3 = linregress(df['Poids'], df['Vitesse'])\n",
    "res3 = stats.linregress(df['Poids'], df['Vitesse'])"
   ]
  },
  {
   "cell_type": "code",
   "execution_count": null,
   "metadata": {
    "id": "-sB76TxkYk3Z",
    "outputId": "74d3f083-387d-4212-a93e-fd88c286ed8d"
   },
   "outputs": [
    {
     "data": {
      "image/png": "[encoded data removed]",
      "text/plain": [
       "<Figure size 432x288 with 1 Axes>"
      ]
     },
     "metadata": {
      "needs_background": "light"
     },
     "output_type": "display_data"
    }
   ],
   "source": [
    "plt.plot(df['Poids'], df['Vitesse'], 'o', label='original data')\n",
    "plt.plot(df['Poids'], res3.intercept + res3.slope*df['Poids'], 'r', label='fitted line')\n",
    "plt.legend()\n",
    "plt.title('Régression linéaire de la vitesse en fonction du poids du véhicule')\n",
    "plt.xlabel('Poids')\n",
    "plt.ylabel('Vitesse')\n",
    "plt.show()"
   ]
  },
  {
   "cell_type": "markdown",
   "metadata": {
    "id": "4ttdAlLiYk3a"
   },
   "source": [
    "Nous voyons bien qu'il y a une dépendance entre ces variables avec cette régression linéaire."
   ]
  },
  {
   "cell_type": "markdown",
   "metadata": {
    "id": "GtelzJvdYk3a"
   },
   "source": [
    "### 2) Test Chi2\n",
    "Nous passons ensuite à l'étape du test du Chi2 avec le V de Cramer. \n",
    "Les hypothèses de test vont être les suivantes : <br>\n",
    "    - H0 : Indépendance des variables <br>\n",
    "    - H1 : Dépendance des variables "
   ]
  },
  {
   "cell_type": "markdown",
   "metadata": {
    "id": "mKbDDOA7Yk3a"
   },
   "source": [
    "Nous regardons d'abord la dépendance entre les variables style de conduite et temps journée."
   ]
  },
  {
   "cell_type": "code",
   "execution_count": null,
   "metadata": {
    "id": "VT13ZeZFYk3b",
    "outputId": "c8373faf-25ff-4b65-dc0a-c78500e6b26f"
   },
   "outputs": [
    {
     "data": {
      "text/html": [
       "<div>\n",
       "<style scoped>\n",
       "    .dataframe tbody tr th:only-of-type {\n",
       "        vertical-align: middle;\n",
       "    }\n",
       "\n",
       "    .dataframe tbody tr th {\n",
       "        vertical-align: top;\n",
       "    }\n",
       "\n",
       "    .dataframe thead th {\n",
       "        text-align: right;\n",
       "    }\n",
       "</style>\n",
       "<table border=\"1\" class=\"dataframe\">\n",
       "  <thead>\n",
       "    <tr style=\"text-align: right;\">\n",
       "      <th>Temps_journee</th>\n",
       "      <th>daylight</th>\n",
       "      <th>night</th>\n",
       "      <th>twilight</th>\n",
       "    </tr>\n",
       "    <tr>\n",
       "      <th>Style_conduite</th>\n",
       "      <th></th>\n",
       "      <th></th>\n",
       "      <th></th>\n",
       "    </tr>\n",
       "  </thead>\n",
       "  <tbody>\n",
       "    <tr>\n",
       "      <th>1</th>\n",
       "      <td>5655</td>\n",
       "      <td>18054</td>\n",
       "      <td>2365</td>\n",
       "    </tr>\n",
       "    <tr>\n",
       "      <th>2</th>\n",
       "      <td>42079</td>\n",
       "      <td>37303</td>\n",
       "      <td>7096</td>\n",
       "    </tr>\n",
       "    <tr>\n",
       "      <th>3</th>\n",
       "      <td>293</td>\n",
       "      <td>40568</td>\n",
       "      <td>9153</td>\n",
       "    </tr>\n",
       "  </tbody>\n",
       "</table>\n",
       "</div>"
      ],
      "text/plain": [
       "Temps_journee   daylight  night  twilight\n",
       "Style_conduite                           \n",
       "1                   5655  18054      2365\n",
       "2                  42079  37303      7096\n",
       "3                    293  40568      9153"
      ]
     },
     "execution_count": 19,
     "metadata": {},
     "output_type": "execute_result"
    }
   ],
   "source": [
    "table = pd.crosstab(df['Style_conduite'], df['Temps_journee'])\n",
    "table"
   ]
  },
  {
   "cell_type": "code",
   "execution_count": null,
   "metadata": {
    "id": "Q2Supi4GYk3b"
   },
   "outputs": [],
   "source": [
    "test_result = chi2_contingency(table)\n",
    "statistic = test_result[0]\n",
    "p_value = test_result[1]\n",
    "degree_of_freedom = test_result[2]"
   ]
  },
  {
   "cell_type": "code",
   "execution_count": null,
   "metadata": {
    "id": "sJ8p54TwYk3b",
    "outputId": "75e3c580-e7df-419a-ce3f-aee998d9b812"
   },
   "outputs": [
    {
     "name": "stdout",
     "output_type": "stream",
     "text": [
      "reject H0\n",
      "La p-valeur est égale à 0.0\n"
     ]
    }
   ],
   "source": [
    "#Méthode 1\n",
    "prob = 0.95\n",
    "critique = chi2.ppf(prob, test_result[2])\n",
    "if abs(test_result[0]) >= critique:\n",
    "    print('reject H0')\n",
    "else:\n",
    "    print('fail to reject H0')\n",
    "    \n",
    "#Méthode 2\n",
    "print(\"La p-valeur est égale à\", p_value)"
   ]
  },
  {
   "cell_type": "markdown",
   "metadata": {
    "id": "rQTwka0OYk3c"
   },
   "source": [
    "La p-valeur est inférieur à 5% donc on rejette H0. Il existe donc une dépendance entre le style de conduite et le temps avec un risque alpha de 5%."
   ]
  },
  {
   "cell_type": "markdown",
   "metadata": {
    "id": "vGTc-SpLYk3c"
   },
   "source": [
    "Ensuite, nous regardons la dépendance entre style de conduite et précipitation. "
   ]
  },
  {
   "cell_type": "code",
   "execution_count": null,
   "metadata": {
    "id": "pVXa2_SjYk3c",
    "outputId": "bd1583e3-a60c-47fe-a4a3-f21a0c0261d1"
   },
   "outputs": [
    {
     "data": {
      "text/html": [
       "<div>\n",
       "<style scoped>\n",
       "    .dataframe tbody tr th:only-of-type {\n",
       "        vertical-align: middle;\n",
       "    }\n",
       "\n",
       "    .dataframe tbody tr th {\n",
       "        vertical-align: top;\n",
       "    }\n",
       "\n",
       "    .dataframe thead th {\n",
       "        text-align: right;\n",
       "    }\n",
       "</style>\n",
       "<table border=\"1\" class=\"dataframe\">\n",
       "  <thead>\n",
       "    <tr style=\"text-align: right;\">\n",
       "      <th>Precipitation</th>\n",
       "      <th>clear</th>\n",
       "      <th>rain</th>\n",
       "      <th>snow</th>\n",
       "    </tr>\n",
       "    <tr>\n",
       "      <th>Style_conduite</th>\n",
       "      <th></th>\n",
       "      <th></th>\n",
       "      <th></th>\n",
       "    </tr>\n",
       "  </thead>\n",
       "  <tbody>\n",
       "    <tr>\n",
       "      <th>1</th>\n",
       "      <td>23303</td>\n",
       "      <td>1569</td>\n",
       "      <td>1202</td>\n",
       "    </tr>\n",
       "    <tr>\n",
       "      <th>2</th>\n",
       "      <td>80510</td>\n",
       "      <td>2324</td>\n",
       "      <td>3644</td>\n",
       "    </tr>\n",
       "    <tr>\n",
       "      <th>3</th>\n",
       "      <td>47446</td>\n",
       "      <td>1470</td>\n",
       "      <td>1098</td>\n",
       "    </tr>\n",
       "  </tbody>\n",
       "</table>\n",
       "</div>"
      ],
      "text/plain": [
       "Precipitation   clear  rain  snow\n",
       "Style_conduite                   \n",
       "1               23303  1569  1202\n",
       "2               80510  2324  3644\n",
       "3               47446  1470  1098"
      ]
     },
     "execution_count": 25,
     "metadata": {},
     "output_type": "execute_result"
    }
   ],
   "source": [
    "table2 = pd.crosstab(df['Style_conduite'], df['Precipitation'])\n",
    "table2"
   ]
  },
  {
   "cell_type": "code",
   "execution_count": null,
   "metadata": {
    "id": "A8Xi5JcFYk3d"
   },
   "outputs": [],
   "source": [
    "test_result = chi2_contingency(table2)\n",
    "statistic = test_result[0]\n",
    "p_value = test_result[1]\n",
    "degree_of_freedom = test_result[2]"
   ]
  },
  {
   "cell_type": "code",
   "execution_count": null,
   "metadata": {
    "id": "xszZBg1uYk3d",
    "outputId": "26032dd2-4f0a-4f4b-ac1e-1c4c95bd1887"
   },
   "outputs": [
    {
     "name": "stdout",
     "output_type": "stream",
     "text": [
      "reject H0\n",
      "La p-valeur est égale à 7.323861304478507e-256\n"
     ]
    }
   ],
   "source": [
    "#Méthode 1\n",
    "prob = 0.95\n",
    "critique = chi2.ppf(prob, test_result[2])\n",
    "if abs(test_result[0]) >= critique:\n",
    "    print('reject H0')\n",
    "else:\n",
    "    print('fail to reject H0')\n",
    "    \n",
    "#Méthode 2\n",
    "print(\"La p-valeur est égale à\", p_value)"
   ]
  },
  {
   "cell_type": "markdown",
   "metadata": {
    "id": "bKcruumIYk3d"
   },
   "source": [
    "La p-valeur est inférieur à 5% donc on rejette H0. Il existe donc une dépendance entre le style de conduite et les précipitation avec un risque alpha de 5%."
   ]
  },
  {
   "cell_type": "markdown",
   "metadata": {
    "id": "j8_3iKj9Yk3d"
   },
   "source": [
    "Nous analysons enfin la dépendance entre le style de conduite et la condition routière."
   ]
  },
  {
   "cell_type": "code",
   "execution_count": null,
   "metadata": {
    "id": "c0fqMFzBYk3e",
    "outputId": "6d94727e-e921-40a0-ab4a-925b0d3aa4da"
   },
   "outputs": [
    {
     "data": {
      "text/html": [
       "<div>\n",
       "<style scoped>\n",
       "    .dataframe tbody tr th:only-of-type {\n",
       "        vertical-align: middle;\n",
       "    }\n",
       "\n",
       "    .dataframe tbody tr th {\n",
       "        vertical-align: top;\n",
       "    }\n",
       "\n",
       "    .dataframe thead th {\n",
       "        text-align: right;\n",
       "    }\n",
       "</style>\n",
       "<table border=\"1\" class=\"dataframe\">\n",
       "  <thead>\n",
       "    <tr style=\"text-align: right;\">\n",
       "      <th>Condition_routiere</th>\n",
       "      <th>Dry</th>\n",
       "      <th>Snow covered</th>\n",
       "      <th>Visible tracks</th>\n",
       "      <th>Wet</th>\n",
       "    </tr>\n",
       "    <tr>\n",
       "      <th>Style_conduite</th>\n",
       "      <th></th>\n",
       "      <th></th>\n",
       "      <th></th>\n",
       "      <th></th>\n",
       "    </tr>\n",
       "  </thead>\n",
       "  <tbody>\n",
       "    <tr>\n",
       "      <th>1</th>\n",
       "      <td>13184</td>\n",
       "      <td>579</td>\n",
       "      <td>734</td>\n",
       "      <td>11577</td>\n",
       "    </tr>\n",
       "    <tr>\n",
       "      <th>2</th>\n",
       "      <td>63604</td>\n",
       "      <td>1053</td>\n",
       "      <td>4110</td>\n",
       "      <td>17711</td>\n",
       "    </tr>\n",
       "    <tr>\n",
       "      <th>3</th>\n",
       "      <td>40878</td>\n",
       "      <td>105</td>\n",
       "      <td>691</td>\n",
       "      <td>8340</td>\n",
       "    </tr>\n",
       "  </tbody>\n",
       "</table>\n",
       "</div>"
      ],
      "text/plain": [
       "Condition_routiere    Dry  Snow covered  Visible tracks    Wet\n",
       "Style_conduite                                                \n",
       "1                   13184           579             734  11577\n",
       "2                   63604          1053            4110  17711\n",
       "3                   40878           105             691   8340"
      ]
     },
     "execution_count": 29,
     "metadata": {},
     "output_type": "execute_result"
    }
   ],
   "source": [
    "table3 = pd.crosstab(df['Style_conduite'], df['Condition_routiere'])\n",
    "table3"
   ]
  },
  {
   "cell_type": "code",
   "execution_count": null,
   "metadata": {
    "id": "2zaow4DQYk3e"
   },
   "outputs": [],
   "source": [
    "test_result = chi2_contingency(table3)\n",
    "statistic = test_result[0]\n",
    "p_value = test_result[1]\n",
    "degree_of_freedom = test_result[2]"
   ]
  },
  {
   "cell_type": "code",
   "execution_count": null,
   "metadata": {
    "id": "E-Q_71WcYk3e",
    "outputId": "1a48f808-ed36-4297-8e02-35c888598ce1"
   },
   "outputs": [
    {
     "name": "stdout",
     "output_type": "stream",
     "text": [
      "reject H0\n",
      "La p-valeur est égale à 0.0\n"
     ]
    }
   ],
   "source": [
    "#Méthode 1\n",
    "prob = 0.95\n",
    "critique = chi2.ppf(prob, test_result[2])\n",
    "if abs(test_result[0]) >= critique:\n",
    "    print('reject H0')\n",
    "else:\n",
    "    print('fail to reject H0')\n",
    "    \n",
    "#Méthode 2\n",
    "print(\"La p-valeur est égale à\", p_value)"
   ]
  },
  {
   "cell_type": "markdown",
   "metadata": {
    "id": "63ieLJLMYk3f"
   },
   "source": [
    "La p-valeur est inférieur à 5% donc on rejette H0. Il existe donc une dépendance entre le style de conduite et la condition routière avec un risque alpha de 5%."
   ]
  },
  {
   "cell_type": "markdown",
   "metadata": {
    "id": "ToO6Mc33Yk3f"
   },
   "source": [
    "### 3) Test Anova\n",
    "Nous passons enfin avec le test Anova "
   ]
  },
  {
   "cell_type": "code",
   "execution_count": null,
   "metadata": {
    "id": "ZFir-UpdYk3g",
    "outputId": "300cd0a7-ee1e-4aa9-c2f5-8eca7f12afbc"
   },
   "outputs": [
    {
     "data": {
      "text/html": [
       "<div>\n",
       "<style scoped>\n",
       "    .dataframe tbody tr th:only-of-type {\n",
       "        vertical-align: middle;\n",
       "    }\n",
       "\n",
       "    .dataframe tbody tr th {\n",
       "        vertical-align: top;\n",
       "    }\n",
       "\n",
       "    .dataframe thead th {\n",
       "        text-align: right;\n",
       "    }\n",
       "</style>\n",
       "<table border=\"1\" class=\"dataframe\">\n",
       "  <thead>\n",
       "    <tr style=\"text-align: right;\">\n",
       "      <th>Longueur</th>\n",
       "      <th>155</th>\n",
       "      <th>176</th>\n",
       "      <th>186</th>\n",
       "      <th>192</th>\n",
       "      <th>276</th>\n",
       "      <th>301</th>\n",
       "      <th>337</th>\n",
       "      <th>340</th>\n",
       "      <th>368</th>\n",
       "      <th>393</th>\n",
       "      <th>...</th>\n",
       "      <th>2128</th>\n",
       "      <th>2139</th>\n",
       "      <th>2140</th>\n",
       "      <th>2167</th>\n",
       "      <th>2172</th>\n",
       "      <th>2193</th>\n",
       "      <th>2195</th>\n",
       "      <th>2254</th>\n",
       "      <th>2335</th>\n",
       "      <th>2337</th>\n",
       "    </tr>\n",
       "    <tr>\n",
       "      <th>Style_conduite</th>\n",
       "      <th></th>\n",
       "      <th></th>\n",
       "      <th></th>\n",
       "      <th></th>\n",
       "      <th></th>\n",
       "      <th></th>\n",
       "      <th></th>\n",
       "      <th></th>\n",
       "      <th></th>\n",
       "      <th></th>\n",
       "      <th></th>\n",
       "      <th></th>\n",
       "      <th></th>\n",
       "      <th></th>\n",
       "      <th></th>\n",
       "      <th></th>\n",
       "      <th></th>\n",
       "      <th></th>\n",
       "      <th></th>\n",
       "      <th></th>\n",
       "      <th></th>\n",
       "    </tr>\n",
       "  </thead>\n",
       "  <tbody>\n",
       "    <tr>\n",
       "      <th>1</th>\n",
       "      <td>0</td>\n",
       "      <td>0</td>\n",
       "      <td>0</td>\n",
       "      <td>0</td>\n",
       "      <td>0</td>\n",
       "      <td>0</td>\n",
       "      <td>0</td>\n",
       "      <td>0</td>\n",
       "      <td>0</td>\n",
       "      <td>0</td>\n",
       "      <td>...</td>\n",
       "      <td>0</td>\n",
       "      <td>2</td>\n",
       "      <td>3</td>\n",
       "      <td>2</td>\n",
       "      <td>0</td>\n",
       "      <td>0</td>\n",
       "      <td>3</td>\n",
       "      <td>0</td>\n",
       "      <td>2</td>\n",
       "      <td>0</td>\n",
       "    </tr>\n",
       "    <tr>\n",
       "      <th>2</th>\n",
       "      <td>19</td>\n",
       "      <td>19</td>\n",
       "      <td>17</td>\n",
       "      <td>0</td>\n",
       "      <td>49</td>\n",
       "      <td>0</td>\n",
       "      <td>2</td>\n",
       "      <td>0</td>\n",
       "      <td>2</td>\n",
       "      <td>0</td>\n",
       "      <td>...</td>\n",
       "      <td>2</td>\n",
       "      <td>0</td>\n",
       "      <td>0</td>\n",
       "      <td>0</td>\n",
       "      <td>2</td>\n",
       "      <td>2</td>\n",
       "      <td>0</td>\n",
       "      <td>0</td>\n",
       "      <td>0</td>\n",
       "      <td>0</td>\n",
       "    </tr>\n",
       "    <tr>\n",
       "      <th>3</th>\n",
       "      <td>0</td>\n",
       "      <td>0</td>\n",
       "      <td>0</td>\n",
       "      <td>16</td>\n",
       "      <td>0</td>\n",
       "      <td>2</td>\n",
       "      <td>0</td>\n",
       "      <td>2</td>\n",
       "      <td>0</td>\n",
       "      <td>2</td>\n",
       "      <td>...</td>\n",
       "      <td>0</td>\n",
       "      <td>0</td>\n",
       "      <td>2</td>\n",
       "      <td>0</td>\n",
       "      <td>0</td>\n",
       "      <td>0</td>\n",
       "      <td>0</td>\n",
       "      <td>3</td>\n",
       "      <td>0</td>\n",
       "      <td>3</td>\n",
       "    </tr>\n",
       "  </tbody>\n",
       "</table>\n",
       "<p>3 rows × 1478 columns</p>\n",
       "</div>"
      ],
      "text/plain": [
       "Longueur        155   176   186   192   276   301   337   340   368   393   \\\n",
       "Style_conduite                                                               \n",
       "1                  0     0     0     0     0     0     0     0     0     0   \n",
       "2                 19    19    17     0    49     0     2     0     2     0   \n",
       "3                  0     0     0    16     0     2     0     2     0     2   \n",
       "\n",
       "Longueur        ...  2128  2139  2140  2167  2172  2193  2195  2254  2335  \\\n",
       "Style_conduite  ...                                                         \n",
       "1               ...     0     2     3     2     0     0     3     0     2   \n",
       "2               ...     2     0     0     0     2     2     0     0     0   \n",
       "3               ...     0     0     2     0     0     0     0     3     0   \n",
       "\n",
       "Longueur        2337  \n",
       "Style_conduite        \n",
       "1                  0  \n",
       "2                  0  \n",
       "3                  3  \n",
       "\n",
       "[3 rows x 1478 columns]"
      ]
     },
     "execution_count": 83,
     "metadata": {},
     "output_type": "execute_result"
    }
   ],
   "source": [
    "table = pd.crosstab(df['Style_conduite'], df['Longueur'])\n",
    "table"
   ]
  },
  {
   "cell_type": "markdown",
   "metadata": {
    "id": "BbDvT_zOYk3h"
   },
   "source": [
    "D'après le tableau de contingence, on remarque que la variable style de conduite contient 3 modalités différentes. <br>\n",
    "On définit l'hypothèse null alors que la variable style de conduite n'a pas d'impact sur la variable longueur,\n",
    "alors la moyenne devrait être la même pour les 3 modalités, donc H0: u1 = u2 = u3 <br>\n",
    "On applique le test ANOVA en prenant un risque alpha = 5%"
   ]
  },
  {
   "cell_type": "code",
   "execution_count": null,
   "metadata": {
    "id": "hvXHLVXmYk3h",
    "outputId": "e7013153-fbc5-4853-bbc6-88e0442db372"
   },
   "outputs": [
    {
     "data": {
      "text/html": [
       "<div>\n",
       "<style scoped>\n",
       "    .dataframe tbody tr th:only-of-type {\n",
       "        vertical-align: middle;\n",
       "    }\n",
       "\n",
       "    .dataframe tbody tr th {\n",
       "        vertical-align: top;\n",
       "    }\n",
       "\n",
       "    .dataframe thead th {\n",
       "        text-align: right;\n",
       "    }\n",
       "</style>\n",
       "<table border=\"1\" class=\"dataframe\">\n",
       "  <thead>\n",
       "    <tr style=\"text-align: right;\">\n",
       "      <th></th>\n",
       "      <th>df</th>\n",
       "      <th>sum_sq</th>\n",
       "      <th>mean_sq</th>\n",
       "      <th>F</th>\n",
       "      <th>PR(&gt;F)</th>\n",
       "    </tr>\n",
       "  </thead>\n",
       "  <tbody>\n",
       "    <tr>\n",
       "      <th>Style_conduite</th>\n",
       "      <td>1.0</td>\n",
       "      <td>2.298314e+09</td>\n",
       "      <td>2.298314e+09</td>\n",
       "      <td>9947.561943</td>\n",
       "      <td>0.0</td>\n",
       "    </tr>\n",
       "    <tr>\n",
       "      <th>Residual</th>\n",
       "      <td>162564.0</td>\n",
       "      <td>3.755927e+10</td>\n",
       "      <td>2.310430e+05</td>\n",
       "      <td>NaN</td>\n",
       "      <td>NaN</td>\n",
       "    </tr>\n",
       "  </tbody>\n",
       "</table>\n",
       "</div>"
      ],
      "text/plain": [
       "                      df        sum_sq       mean_sq            F  PR(>F)\n",
       "Style_conduite       1.0  2.298314e+09  2.298314e+09  9947.561943     0.0\n",
       "Residual        162564.0  3.755927e+10  2.310430e+05          NaN     NaN"
      ]
     },
     "execution_count": 84,
     "metadata": {},
     "output_type": "execute_result"
    }
   ],
   "source": [
    "result_Cases = statsmodels.formula.api.ols('Longueur ~ Style_conduite', data = df).fit()\n",
    "table_Cases = statsmodels.api.stats.anova_lm(result_Cases)\n",
    "table_Cases"
   ]
  },
  {
   "cell_type": "markdown",
   "metadata": {
    "id": "qO5p0BcDYk3h"
   },
   "source": [
    "Nous remarquons ici que la p-valeur est inférieur à 5% donc on va rejetter l'hypothèse H0. Nous pouvons donc dire que les variables style de conduite et longueur sont dépendantes entre elles."
   ]
  },
  {
   "cell_type": "markdown",
   "metadata": {
    "id": "VER4b3tGYk3i"
   },
   "source": [
    "La variable style de conduite est qualitative et la variable vitesse vehicule precedent est quantitative, le test ANOVA sera donc appliqué <br>\n",
    "On définit alors H0 : u1 = u2 = u3"
   ]
  },
  {
   "cell_type": "code",
   "execution_count": null,
   "metadata": {
    "id": "cBaECpYbYk3i",
    "outputId": "58de130c-6c0d-4ee9-e079-4a2bf9507958",
    "scrolled": true
   },
   "outputs": [
    {
     "data": {
      "text/html": [
       "<div>\n",
       "<style scoped>\n",
       "    .dataframe tbody tr th:only-of-type {\n",
       "        vertical-align: middle;\n",
       "    }\n",
       "\n",
       "    .dataframe tbody tr th {\n",
       "        vertical-align: top;\n",
       "    }\n",
       "\n",
       "    .dataframe thead th {\n",
       "        text-align: right;\n",
       "    }\n",
       "</style>\n",
       "<table border=\"1\" class=\"dataframe\">\n",
       "  <thead>\n",
       "    <tr style=\"text-align: right;\">\n",
       "      <th></th>\n",
       "      <th>df</th>\n",
       "      <th>sum_sq</th>\n",
       "      <th>mean_sq</th>\n",
       "      <th>F</th>\n",
       "      <th>PR(&gt;F)</th>\n",
       "    </tr>\n",
       "  </thead>\n",
       "  <tbody>\n",
       "    <tr>\n",
       "      <th>Style_conduite</th>\n",
       "      <td>1.0</td>\n",
       "      <td>8.730230e+04</td>\n",
       "      <td>87302.303691</td>\n",
       "      <td>999.810088</td>\n",
       "      <td>9.157574e-219</td>\n",
       "    </tr>\n",
       "    <tr>\n",
       "      <th>Residual</th>\n",
       "      <td>162564.0</td>\n",
       "      <td>1.419491e+07</td>\n",
       "      <td>87.318887</td>\n",
       "      <td>NaN</td>\n",
       "      <td>NaN</td>\n",
       "    </tr>\n",
       "  </tbody>\n",
       "</table>\n",
       "</div>"
      ],
      "text/plain": [
       "                      df        sum_sq       mean_sq           F  \\\n",
       "Style_conduite       1.0  8.730230e+04  87302.303691  999.810088   \n",
       "Residual        162564.0  1.419491e+07     87.318887         NaN   \n",
       "\n",
       "                       PR(>F)  \n",
       "Style_conduite  9.157574e-219  \n",
       "Residual                  NaN  "
      ]
     },
     "execution_count": 37,
     "metadata": {},
     "output_type": "execute_result"
    }
   ],
   "source": [
    "result_Cases2 = statsmodels.formula.api.ols('Vitesse_vehicule_precedent ~ Style_conduite', data = df).fit()\n",
    "table_Cases2 = statsmodels.api.stats.anova_lm(result_Cases2)\n",
    "table_Cases2"
   ]
  },
  {
   "cell_type": "markdown",
   "metadata": {
    "id": "7qJOdYxBYk3i"
   },
   "source": [
    "Nous remarquons ici que la p-valeur est inférieur à 5% donc on va rejetter l'hypothèse H0. Nous pouvons donc dire que les variables style de conduite et vitesse du véhicule précédent sont dépendantes entre elles."
   ]
  },
  {
   "cell_type": "markdown",
   "metadata": {
    "id": "5K9G4ST8Yk3j"
   },
   "source": [
    "Nous effectuons un test ANOVA avec la variable style de conduite et longueur véhicule précédent (variable quantitative) <br>\n",
    "On définit alors H0 : u1 = u2 = u3"
   ]
  },
  {
   "cell_type": "code",
   "execution_count": null,
   "metadata": {
    "id": "0DWaPH7jYk3j",
    "outputId": "570dab7e-31bc-44df-dc9e-84ab700fb4d0"
   },
   "outputs": [
    {
     "data": {
      "text/html": [
       "<div>\n",
       "<style scoped>\n",
       "    .dataframe tbody tr th:only-of-type {\n",
       "        vertical-align: middle;\n",
       "    }\n",
       "\n",
       "    .dataframe tbody tr th {\n",
       "        vertical-align: top;\n",
       "    }\n",
       "\n",
       "    .dataframe thead th {\n",
       "        text-align: right;\n",
       "    }\n",
       "</style>\n",
       "<table border=\"1\" class=\"dataframe\">\n",
       "  <thead>\n",
       "    <tr style=\"text-align: right;\">\n",
       "      <th></th>\n",
       "      <th>df</th>\n",
       "      <th>sum_sq</th>\n",
       "      <th>mean_sq</th>\n",
       "      <th>F</th>\n",
       "      <th>PR(&gt;F)</th>\n",
       "    </tr>\n",
       "  </thead>\n",
       "  <tbody>\n",
       "    <tr>\n",
       "      <th>Style_conduite</th>\n",
       "      <td>1.0</td>\n",
       "      <td>2.433560e+08</td>\n",
       "      <td>2.433560e+08</td>\n",
       "      <td>1054.517283</td>\n",
       "      <td>1.397592e-230</td>\n",
       "    </tr>\n",
       "    <tr>\n",
       "      <th>Residual</th>\n",
       "      <td>162564.0</td>\n",
       "      <td>3.751567e+10</td>\n",
       "      <td>2.307747e+05</td>\n",
       "      <td>NaN</td>\n",
       "      <td>NaN</td>\n",
       "    </tr>\n",
       "  </tbody>\n",
       "</table>\n",
       "</div>"
      ],
      "text/plain": [
       "                      df        sum_sq       mean_sq            F  \\\n",
       "Style_conduite       1.0  2.433560e+08  2.433560e+08  1054.517283   \n",
       "Residual        162564.0  3.751567e+10  2.307747e+05          NaN   \n",
       "\n",
       "                       PR(>F)  \n",
       "Style_conduite  1.397592e-230  \n",
       "Residual                  NaN  "
      ]
     },
     "execution_count": 36,
     "metadata": {},
     "output_type": "execute_result"
    }
   ],
   "source": [
    "result_Cases3 = statsmodels.formula.api.ols('Longueur_vehicule_precedent ~ Style_conduite', data = df).fit()\n",
    "table_Cases3 = statsmodels.api.stats.anova_lm(result_Cases3)\n",
    "table_Cases3 "
   ]
  },
  {
   "cell_type": "markdown",
   "metadata": {
    "id": "qHcDzdnGYk3k"
   },
   "source": [
    "Nous remarquons que la p-valeur est inférieur à 5% donc on va rejetter l'hypothèse H0. Nous pouvons donc dire que les variables style de conduite et longueur du véhicule précédent sont dépendantes entre elles."
   ]
  },
  {
   "cell_type": "markdown",
   "metadata": {
    "id": "-DbX8RxuYk3k"
   },
   "source": [
    "Enfin, nous effectuons un dernier test ANOVA avec la variable style de conduite et poids (variable quantitative) <br>\n",
    "On définit alors H0 : u1 = u2 = u3"
   ]
  },
  {
   "cell_type": "code",
   "execution_count": null,
   "metadata": {
    "id": "5AP9s-7LYk3k",
    "outputId": "23326315-7a07-4ab9-d6f0-ba210220c93c"
   },
   "outputs": [
    {
     "data": {
      "text/html": [
       "<div>\n",
       "<style scoped>\n",
       "    .dataframe tbody tr th:only-of-type {\n",
       "        vertical-align: middle;\n",
       "    }\n",
       "\n",
       "    .dataframe tbody tr th {\n",
       "        vertical-align: top;\n",
       "    }\n",
       "\n",
       "    .dataframe thead th {\n",
       "        text-align: right;\n",
       "    }\n",
       "</style>\n",
       "<table border=\"1\" class=\"dataframe\">\n",
       "  <thead>\n",
       "    <tr style=\"text-align: right;\">\n",
       "      <th></th>\n",
       "      <th>df</th>\n",
       "      <th>sum_sq</th>\n",
       "      <th>mean_sq</th>\n",
       "      <th>F</th>\n",
       "      <th>PR(&gt;F)</th>\n",
       "    </tr>\n",
       "  </thead>\n",
       "  <tbody>\n",
       "    <tr>\n",
       "      <th>Style_conduite</th>\n",
       "      <td>1.0</td>\n",
       "      <td>5.462870e+11</td>\n",
       "      <td>5.462870e+11</td>\n",
       "      <td>9073.406339</td>\n",
       "      <td>0.0</td>\n",
       "    </tr>\n",
       "    <tr>\n",
       "      <th>Residual</th>\n",
       "      <td>162564.0</td>\n",
       "      <td>9.787570e+12</td>\n",
       "      <td>6.020749e+07</td>\n",
       "      <td>NaN</td>\n",
       "      <td>NaN</td>\n",
       "    </tr>\n",
       "  </tbody>\n",
       "</table>\n",
       "</div>"
      ],
      "text/plain": [
       "                      df        sum_sq       mean_sq            F  PR(>F)\n",
       "Style_conduite       1.0  5.462870e+11  5.462870e+11  9073.406339     0.0\n",
       "Residual        162564.0  9.787570e+12  6.020749e+07          NaN     NaN"
      ]
     },
     "execution_count": 38,
     "metadata": {},
     "output_type": "execute_result"
    }
   ],
   "source": [
    "result_Cases4 = statsmodels.formula.api.ols('Poids ~ Style_conduite', data = df).fit()\n",
    "table_Cases4 = statsmodels.api.stats.anova_lm(result_Cases4)\n",
    "table_Cases4 "
   ]
  },
  {
   "cell_type": "markdown",
   "metadata": {
    "id": "2TQuUcGqYk3k"
   },
   "source": [
    "Nous remarquons que la p-valeur est inférieur à 5% donc on va rejetter l'hypothèse H0. Nous pouvons donc dire que les variables style de conduite et poids du véhicule sont dépendantes entre elles."
   ]
  }
 ],
 "metadata": {
  "colab": {
   "name": "Projet_Stat_BELHADJ_CHUTET_KRISSAANE_MERBAH.ipynb",
   "provenance": []
  },
  "kernelspec": {
   "display_name": "Python 3",
   "language": "python",
   "name": "python3"
  },
  "language_info": {
   "codemirror_mode": {
    "name": "ipython",
    "version": 3
   },
   "file_extension": ".py",
   "mimetype": "text/x-python",
   "name": "python",
   "nbconvert_exporter": "python",
   "pygments_lexer": "ipython3",
   "version": "3.8.8"
  }
 },
 "nbformat": 4,
 "nbformat_minor": 1
}
